{
 "cells": [
  {
   "cell_type": "code",
   "execution_count": 1,
   "metadata": {
    "collapsed": true
   },
   "outputs": [],
   "source": [
    "import pandas as pd\n",
    "import numpy as np \n",
    "import xgboost as xgb\n",
    "import sklearn.cross_validation as cv"
   ]
  },
  {
   "cell_type": "code",
   "execution_count": 2,
   "metadata": {
    "collapsed": true
   },
   "outputs": [],
   "source": [
    "def Gini(y_pred, dtrain):\n",
    "    y_true = dtrain.get_label()\n",
    "    # check and get number of samples\n",
    "    assert y_true.shape == y_pred.shape\n",
    "    n_samples = y_true.shape[0]\n",
    "    \n",
    "    # sort rows on prediction column \n",
    "    # (from largest to smallest)\n",
    "    arr = np.array([y_true, y_pred]).transpose()\n",
    "    true_order = arr[arr[:,0].argsort()][::-1,0]\n",
    "    pred_order = arr[arr[:,1].argsort()][::-1,0]\n",
    "    \n",
    "    # get Lorenz curves\n",
    "    L_true = np.cumsum(true_order) / np.sum(true_order)\n",
    "    L_pred = np.cumsum(pred_order) / np.sum(pred_order)\n",
    "    L_ones = np.linspace(0, 1, n_samples)\n",
    "    \n",
    "    # get Gini coefficients (area between curves)\n",
    "    G_true = np.sum(L_ones - L_true)\n",
    "    G_pred = np.sum(L_ones - L_pred)\n",
    "    \n",
    "    # normalize to true Gini coefficient\n",
    "    return 'Gini', -G_pred/G_true"
   ]
  },
  {
   "cell_type": "code",
   "execution_count": 11,
   "metadata": {
    "collapsed": false
   },
   "outputs": [
    {
     "name": "stderr",
     "output_type": "stream",
     "text": [
      "Will train until val error hasn't decreased in 200 rounds.\n",
      "Stopping. Best iteration:\n",
      "[1737]\ttrain-Gini:-0.525610\tval-Gini:-0.402534\n",
      "\n",
      "Will train until val error hasn't decreased in 200 rounds.\n",
      "Stopping. Best iteration:\n",
      "[2352]\ttrain-Gini:-0.556182\tval-Gini:-0.389157\n",
      "\n",
      "Will train until val error hasn't decreased in 200 rounds.\n",
      "Stopping. Best iteration:\n",
      "[2730]\ttrain-Gini:-0.568586\tval-Gini:-0.379306\n",
      "\n",
      "Will train until val error hasn't decreased in 200 rounds.\n",
      "Stopping. Best iteration:\n",
      "[2606]\ttrain-Gini:-0.564527\tval-Gini:-0.391209\n",
      "\n",
      "Will train until val error hasn't decreased in 200 rounds.\n",
      "Stopping. Best iteration:\n",
      "[2357]\ttrain-Gini:-0.553556\tval-Gini:-0.384982\n",
      "\n",
      "Will train until val error hasn't decreased in 200 rounds.\n",
      "Stopping. Best iteration:\n",
      "[2356]\ttrain-Gini:-0.552285\tval-Gini:-0.413391\n",
      "\n",
      "Will train until val error hasn't decreased in 200 rounds.\n",
      "Stopping. Best iteration:\n",
      "[2897]\ttrain-Gini:-0.576318\tval-Gini:-0.387026\n",
      "\n",
      "Will train until val error hasn't decreased in 200 rounds.\n",
      "Stopping. Best iteration:\n",
      "[1964]\ttrain-Gini:-0.540128\tval-Gini:-0.377024\n",
      "\n",
      "Will train until val error hasn't decreased in 200 rounds.\n",
      "Stopping. Best iteration:\n",
      "[1410]\ttrain-Gini:-0.516568\tval-Gini:-0.375755\n",
      "\n",
      "Will train until val error hasn't decreased in 200 rounds.\n",
      "Stopping. Best iteration:\n",
      "[1559]\ttrain-Gini:-0.523071\tval-Gini:-0.379516\n",
      "\n",
      "Will train until val error hasn't decreased in 200 rounds.\n",
      "Stopping. Best iteration:\n",
      "[1984]\ttrain-Gini:-0.540987\tval-Gini:-0.397235\n",
      "\n",
      "Will train until val error hasn't decreased in 200 rounds.\n",
      "Stopping. Best iteration:\n",
      "[2333]\ttrain-Gini:-0.555460\tval-Gini:-0.378588\n",
      "\n",
      "Will train until val error hasn't decreased in 200 rounds.\n",
      "Stopping. Best iteration:\n",
      "[2351]\ttrain-Gini:-0.555488\tval-Gini:-0.382503\n",
      "\n",
      "Will train until val error hasn't decreased in 200 rounds.\n",
      "Stopping. Best iteration:\n",
      "[2241]\ttrain-Gini:-0.546607\tval-Gini:-0.390559\n",
      "\n",
      "Will train until val error hasn't decreased in 200 rounds.\n",
      "Stopping. Best iteration:\n",
      "[1831]\ttrain-Gini:-0.531175\tval-Gini:-0.392334\n",
      "\n"
     ]
    },
    {
     "name": "stdout",
     "output_type": "stream",
     "text": [
      "Learning rate: 0.003 | Min child weight: 75 | Mean Gini: 0.388075 | Std Gini: 0.010083 \n"
     ]
    }
   ],
   "source": [
    "import warnings\n",
    "warnings.filterwarnings('ignore')\n",
    "num_rounds = 10000\n",
    "params = {  \"objective\": \"reg:linear\"\n",
    "          , \"eta\": 0.003\n",
    "          , \"min_child_weight\": 75\n",
    "          , \"subsample\": 0.6\n",
    "          , \"colsample_bytree\": 0.7\n",
    "          , \"scale_pos_weight\": 1\n",
    "          , \"silent\": 1\n",
    "          , \"max_depth\": 9}\n",
    "\n",
    "tr = pd.read_csv('./train.csv', sep = ',', index_col = 'Id')\n",
    "te =  pd.read_csv('./test.csv', sep = ',',index_col = 'Id')\n",
    "\n",
    "labels = tr['Hazard'].values\n",
    "\n",
    "\n",
    "full =  pd.concat(objs = [tr,te])\n",
    "full_cat = full.select_dtypes(include = ['object'])\n",
    "full_num = full.select_dtypes(exclude = ['object'])\n",
    "full_cat = full_cat.apply(func = lambda x: np.unique(x, return_inverse =1)[1], axis=0)\n",
    "\n",
    "full = pd.concat([full_num,full_cat], axis=1)\n",
    "split = np.isnan(full.Hazard)\n",
    "\n",
    "train = full[~split].drop('Hazard', axis=1).values\n",
    "test = full[split].drop('Hazard', axis=1).values\n",
    "xgtest = xgb.DMatrix(test)\n",
    "gini = []\n",
    "for j in range(3):\n",
    "    folds = cv.StratifiedKFold(labels, n_folds = 5, shuffle=True)\n",
    "    for train_ind, val_ind in folds: \n",
    "        xgtrain = xgb.DMatrix(train[train_ind,:], label=labels[train_ind])\n",
    "        xgval = xgb.DMatrix(train[val_ind,:], label=labels[val_ind])\n",
    "        watchlist = [(xgtrain, 'train'),(xgval, 'val')]\n",
    "        model = xgb.train(params, xgtrain, num_rounds, watchlist,\n",
    "                          feval= Gini, early_stopping_rounds=200,verbose_eval=False)\n",
    "        gini.append(model.best_score)\n",
    "print('Learning rate: {} | Min child weight: {} | Mean Gini: {:.6f} | Std Gini: {:.6f} '.format(\n",
    "        params['eta'], params['min_child_weight'], -np.mean(gini),np.std(gini)))"
   ]
  },
  {
   "cell_type": "code",
   "execution_count": 29,
   "metadata": {
    "collapsed": false
   },
   "outputs": [],
   "source": [
    "import warnings\n",
    "warnings.filterwarnings('ignore')\n",
    "num_rounds = 3000\n",
    "\n",
    "tr = pd.read_csv('./train.csv', sep = ',', index_col = 'Id')\n",
    "te =  pd.read_csv('./test.csv', sep = ',',index_col = 'Id')\n",
    "test_id = te.index\n",
    "\n",
    "labels = tr['Hazard'].values\n",
    "\n",
    "\n",
    "full =  pd.concat(objs = [tr,te])\n",
    "full_cat = full.select_dtypes(include = ['object'])\n",
    "full_num = full.select_dtypes(exclude = ['object'])\n",
    "full_cat = full_cat.apply(func = lambda x: np.unique(x, return_inverse =1)[1], axis=0)\n",
    "\n",
    "full = pd.concat([full_num,full_cat], axis=1)\n",
    "split = np.isnan(full.Hazard)\n",
    "\n",
    "train = full[~split].drop('Hazard', axis=1).values\n",
    "test = full[split].drop('Hazard', axis=1).values\n",
    "xgtest = xgb.DMatrix(test)\n",
    "xgtrain = xgb.DMatrix(train, label=labels)\n",
    "for i in range(10):\n",
    "    params = {  \"objective\": \"reg:linear\"\n",
    "          , \"eta\": 0.003\n",
    "          , \"min_child_weight\": 75\n",
    "          , \"subsample\": 0.6\n",
    "          , \"colsample_bytree\": 0.7\n",
    "          , \"scale_pos_weight\": 1\n",
    "          , \"silent\": 1\n",
    "          , \"max_depth\": 9\n",
    "          , 'seed': i}\n",
    "    model = xgb.train(params, xgtrain, num_rounds, verbose_eval=False)\n",
    "    pred = model.predict(xgtest)\n",
    "    preds = pd.DataFrame({'Hazard': pred},index=test_id)\n",
    "    preds.to_csv('sub{}.csv'.format(i))"
   ]
  },
  {
   "cell_type": "code",
   "execution_count": 30,
   "metadata": {
    "collapsed": true
   },
   "outputs": [],
   "source": [
    "pred = np.mean([pd.read_csv('sub{}.csv'.format(i)).Hazard.values for i in range(10)], axis=0)\n",
    "preds = pd.DataFrame({'Hazard': pred},index=test_id)\n",
    "preds.to_csv('sub_final.csv')"
   ]
  }
 ],
 "metadata": {
  "kernelspec": {
   "display_name": "Python 3",
   "language": "python",
   "name": "python3"
  },
  "language_info": {
   "codemirror_mode": {
    "name": "ipython",
    "version": 3
   },
   "file_extension": ".py",
   "mimetype": "text/x-python",
   "name": "python",
   "nbconvert_exporter": "python",
   "pygments_lexer": "ipython3",
   "version": "3.4.3"
  }
 },
 "nbformat": 4,
 "nbformat_minor": 0
}
