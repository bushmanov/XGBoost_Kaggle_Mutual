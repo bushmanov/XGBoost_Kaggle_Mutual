{
 "cells": [
  {
   "cell_type": "code",
   "execution_count": 1,
   "metadata": {
    "collapsed": true
   },
   "outputs": [],
   "source": [
    "import pandas as pd\n",
    "import numpy as np \n",
    "import xgboost as xgb\n",
    "import patsy\n",
    "import matplotlib.pyplot as plt\n",
    "from collections import Counter\n",
    "import re\n",
    "%matplotlib inline"
   ]
  },
  {
   "cell_type": "code",
   "execution_count": 2,
   "metadata": {
    "collapsed": true
   },
   "outputs": [],
   "source": [
    "def Gini(y_pred, dtrain):\n",
    "    y_true = dtrain.get_label()\n",
    "    # check and get number of samples\n",
    "    assert y_true.shape == y_pred.shape\n",
    "    n_samples = y_true.shape[0]\n",
    "    \n",
    "    # sort rows on prediction column \n",
    "    # (from largest to smallest)\n",
    "    arr = np.array([y_true, y_pred]).transpose()\n",
    "    true_order = arr[arr[:,0].argsort()][::-1,0]\n",
    "    pred_order = arr[arr[:,1].argsort()][::-1,0]\n",
    "    \n",
    "    # get Lorenz curves\n",
    "    L_true = np.cumsum(true_order) / np.sum(true_order)\n",
    "    L_pred = np.cumsum(pred_order) / np.sum(pred_order)\n",
    "    L_ones = np.linspace(0, 1, n_samples)\n",
    "    \n",
    "    # get Gini coefficients (area between curves)\n",
    "    G_true = np.sum(L_ones - L_true)\n",
    "    G_pred = np.sum(L_ones - L_pred)\n",
    "    \n",
    "    # normalize to true Gini coefficient\n",
    "    return 'Gini', -G_pred/G_true"
   ]
  },
  {
   "cell_type": "markdown",
   "metadata": {},
   "source": [
    "## Train"
   ]
  },
  {
   "cell_type": "code",
   "execution_count": null,
   "metadata": {
    "collapsed": false
   },
   "outputs": [],
   "source": [
    "params = {  \"objective\": \"reg:linear\"\n",
    "          , \"eta\": 0.003\n",
    "          , \"min_child_weight\": 6\n",
    "          , \"subsample\": 0.6\n",
    "          , \"colsample_bytree\": 0.7\n",
    "          , \"scale_pos_weight\": 1\n",
    "          , \"silent\": 1\n",
    "          , \"max_depth\": 9}\n",
    "\n",
    "digs = re.compile(r'\\d+')\n",
    "\n",
    "cat_to_drop = []\n",
    "\n",
    "tr = pd.read_csv('./train.csv', sep = ',', index_col = 'Id')\n",
    "te =  pd.read_csv('./test.csv', sep = ',',index_col = 'Id')\n",
    "\n",
    "for i in range(32):\n",
    "    full =  pd.concat(objs = [tr,te])\n",
    "    full.drop(cat_to_drop, axis=1, inplace = 1)\n",
    "    full_cat = full.select_dtypes(include = ['object'])\n",
    "    full_num = full.select_dtypes(exclude = ['object'])\n",
    "    full_cat = full_cat.apply(func = lambda x: np.unique(x, return_inverse =1)[1], axis=0)\n",
    "\n",
    "    full = pd.concat([full_num,full_cat], axis=1)\n",
    "    split = np.isnan(full.Hazard)\n",
    "    labels = full.loc[~split,'Hazard'].values\n",
    "    train = full[~split].drop('Hazard', axis=1).values\n",
    "    feature_names = full.columns[1:]\n",
    "    offset = 10000\n",
    "    num_rounds = 10000\n",
    "    xgtrain = xgb.DMatrix(train[offset:,:], label=labels[offset:])\n",
    "    xgval = xgb.DMatrix(train[:offset,:], label=labels[:offset])\n",
    "    watchlist = [(xgtrain, 'train'),(xgval, 'val')]\n",
    "    model = xgb.train(params, xgtrain, num_rounds, watchlist,\n",
    "                      feval=Gini, early_stopping_rounds=120, verbose_eval=False)\n",
    "    importance = Counter(model.get_fscore()).most_common()\n",
    "    least_imp_id = re.findall(digs, importance[-1][0])\n",
    "    least_imp_name = feature_names[least_imp_id]\n",
    "    print('Gini: {} | Dropped: {} | Least Important: {}'.format(model.best_score, cat_to_drop,least_imp_name))\n",
    "    cat_to_drop.append(least_imp_name)"
   ]
  }
 ],
 "metadata": {
  "kernelspec": {
   "display_name": "Python 3",
   "language": "python",
   "name": "python3"
  },
  "language_info": {
   "codemirror_mode": {
    "name": "ipython",
    "version": 3
   },
   "file_extension": ".py",
   "mimetype": "text/x-python",
   "name": "python",
   "nbconvert_exporter": "python",
   "pygments_lexer": "ipython3",
   "version": "3.4.3"
  }
 },
 "nbformat": 4,
 "nbformat_minor": 0
}
