{
 "cells": [
  {
   "cell_type": "code",
   "execution_count": 1,
   "metadata": {
    "collapsed": true
   },
   "outputs": [],
   "source": [
    "import pandas as pd\n",
    "import patsy\n",
    "import numpy as np \n",
    "import xgboost as xgb\n",
    "import sklearn.cross_validation as cv\n",
    "import sklearn.ensemble as ens"
   ]
  },
  {
   "cell_type": "code",
   "execution_count": 2,
   "metadata": {
    "collapsed": true
   },
   "outputs": [],
   "source": [
    "def Gini(y_pred, dtrain):\n",
    "    '''\n",
    "    A helper function for XGBOOST early stopping\n",
    "    Used as parameter feval = Gini\n",
    "    y-pred: predicctions from a model, ndarray\n",
    "    dtrain: true labels, DMatrix\n",
    "    Returns: metrics label and value of a \"Gini\" metrics of missordered labels\n",
    "    The returned value is negative to ensure minimization\n",
    "    '''\n",
    "    y_true = dtrain.get_label()\n",
    "    # check and get number of samples\n",
    "    assert y_true.shape == y_pred.shape\n",
    "    n_samples = y_true.shape[0]\n",
    "    \n",
    "    # sort rows on prediction column \n",
    "    # (from largest to smallest)\n",
    "    arr = np.array([y_true, y_pred]).transpose()\n",
    "    true_order = arr[arr[:,0].argsort()][::-1,0]\n",
    "    pred_order = arr[arr[:,1].argsort()][::-1,0]\n",
    "    \n",
    "    # get Lorenz curves\n",
    "    L_true = np.cumsum(true_order) / np.sum(true_order)\n",
    "    L_pred = np.cumsum(pred_order) / np.sum(pred_order)\n",
    "    L_ones = np.linspace(0, 1, n_samples)\n",
    "    \n",
    "    # get Gini coefficients (area between curves)\n",
    "    G_true = np.sum(L_ones - L_true)\n",
    "    G_pred = np.sum(L_ones - L_pred)\n",
    "    \n",
    "    # normalize to true Gini coefficient\n",
    "    return 'Gini', -G_pred/G_true"
   ]
  },
  {
   "cell_type": "code",
   "execution_count": 3,
   "metadata": {
    "collapsed": true
   },
   "outputs": [],
   "source": [
    "def Gini_predict(y_true, y_pred):\n",
    "    '''\n",
    "    more general than above as it accepts labels and returns score\n",
    "    '''\n",
    "    # check and get number of samples\n",
    "    assert y_true.shape == y_pred.shape\n",
    "    n_samples = y_true.shape[0]\n",
    "    \n",
    "    # sort rows on prediction column \n",
    "    # (from largest to smallest)\n",
    "    arr = np.array([y_true, y_pred]).transpose()\n",
    "    true_order = arr[arr[:,0].argsort()][::-1,0]\n",
    "    pred_order = arr[arr[:,1].argsort()][::-1,0]\n",
    "    \n",
    "    # get Lorenz curves\n",
    "    L_true = np.cumsum(true_order) / np.sum(true_order)\n",
    "    L_pred = np.cumsum(pred_order) / np.sum(pred_order)\n",
    "    L_ones = np.linspace(0, 1, n_samples)\n",
    "    \n",
    "    # get Gini coefficients (area between curves)\n",
    "    G_true = np.sum(L_ones - L_true)\n",
    "    G_pred = np.sum(L_ones - L_pred)\n",
    "    \n",
    "    # normalize to true Gini coefficient\n",
    "    return G_pred/G_true"
   ]
  },
  {
   "cell_type": "markdown",
   "metadata": {},
   "source": [
    "#### Load data"
   ]
  },
  {
   "cell_type": "code",
   "execution_count": 4,
   "metadata": {
    "collapsed": true
   },
   "outputs": [],
   "source": [
    "tr = pd.read_csv('./train.csv', sep = ',', index_col = 'Id')\n",
    "te =  pd.read_csv('./test.csv', sep = ',',index_col = 'Id')\n",
    "labels = tr['Hazard'].values\n",
    "\n",
    "full =  pd.concat(objs = [tr,te])\n",
    "full.drop(['T1_V10', 'T1_V13', 'T2_V7', 'T2_V10'], axis=1, inplace = 1)\n",
    "full_cat = full.select_dtypes(include = ['object'])\n",
    "full_num = full.select_dtypes(exclude = ['object'])"
   ]
  },
  {
   "cell_type": "markdown",
   "metadata": {},
   "source": [
    "#### Prepare train and test with GROUPED categorical variables"
   ]
  },
  {
   "cell_type": "code",
   "execution_count": 5,
   "metadata": {
    "collapsed": true
   },
   "outputs": [],
   "source": [
    "x_cat = full_cat.apply(func = lambda x: np.unique(x, return_inverse =1)[1], axis=0)\n",
    "\n",
    "full_gr = pd.concat([full_num,x_cat], axis=1)\n",
    "split = np.isnan(full.Hazard)\n",
    "\n",
    "train_gr = full_gr[~split].drop('Hazard', axis=1).values\n",
    "test_gr = full_gr[split].drop('Hazard', axis=1).values"
   ]
  },
  {
   "cell_type": "markdown",
   "metadata": {},
   "source": [
    "#### Prepare train and test sets with DUMMIFIED categorical variables"
   ]
  },
  {
   "cell_type": "code",
   "execution_count": 6,
   "metadata": {
    "collapsed": true
   },
   "outputs": [],
   "source": [
    "cat_names = full_cat.columns    \n",
    "form = ' + '.join(cat_names)\n",
    "form += ' - 1'\n",
    "x_dummies = patsy.dmatrix(form, full_cat, return_type='dataframe')\n",
    "full_dum = pd.concat([full_num, x_dummies], axis = 1)\n",
    "\n",
    "train_dum = full_dum[~split].drop('Hazard', axis=1).values\n",
    "test_dum = full_dum[split].drop('Hazard', axis=1).values"
   ]
  },
  {
   "cell_type": "markdown",
   "metadata": {},
   "source": [
    "#### Prepare XGBOOST"
   ]
  },
  {
   "cell_type": "code",
   "execution_count": 7,
   "metadata": {
    "collapsed": true
   },
   "outputs": [],
   "source": [
    "num_rounds = 10000\n",
    "params = {  \"objective\": \"reg:linear\"\n",
    "          , \"eta\": 0.01\n",
    "          , \"min_child_weight\": 10\n",
    "          , \"subsample\": 0.6\n",
    "          , \"colsample_bytree\": 0.7\n",
    "          , \"scale_pos_weight\": 1\n",
    "          , \"silent\": 1\n",
    "          , \"max_depth\": 9}"
   ]
  },
  {
   "cell_type": "markdown",
   "metadata": {},
   "source": [
    "#### Train"
   ]
  },
  {
   "cell_type": "code",
   "execution_count": 8,
   "metadata": {
    "collapsed": false,
    "scrolled": true
   },
   "outputs": [
    {
     "name": "stderr",
     "output_type": "stream",
     "text": [
      "Will train until val error hasn't decreased in 200 rounds.\n",
      "Stopping. Best iteration:\n",
      "[1481]\ttrain-Gini:-0.640993\tval-Gini:-0.387625\n",
      "\n",
      "Will train until val error hasn't decreased in 200 rounds.\n",
      "Stopping. Best iteration:\n",
      "[1216]\ttrain-Gini:-0.666117\tval-Gini:-0.390464\n",
      "\n",
      "Will train until val error hasn't decreased in 200 rounds.\n",
      "Stopping. Best iteration:\n",
      "[1218]\ttrain-Gini:-0.613961\tval-Gini:-0.372192\n",
      "\n",
      "Will train until val error hasn't decreased in 200 rounds.\n",
      "Stopping. Best iteration:\n",
      "[746]\ttrain-Gini:-0.610130\tval-Gini:-0.370068\n",
      "\n"
     ]
    },
    {
     "name": "stdout",
     "output_type": "stream",
     "text": [
      "Fold 1 | xgb_dum Gini 0.387624 | xgb_gr Gini 0.390447\n",
      "Fold 2 | xgb_dum Gini 0.372126 | xgb_gr Gini 0.369997\n"
     ]
    },
    {
     "name": "stderr",
     "output_type": "stream",
     "text": [
      "Will train until val error hasn't decreased in 200 rounds.\n"
     ]
    },
    {
     "ename": "KeyboardInterrupt",
     "evalue": "",
     "output_type": "error",
     "traceback": [
      "\u001b[1;31m---------------------------------------------------------------------------\u001b[0m",
      "\u001b[1;31mKeyboardInterrupt\u001b[0m                         Traceback (most recent call last)",
      "\u001b[1;32m<ipython-input-8-30db0b5a9fc9>\u001b[0m in \u001b[0;36m<module>\u001b[1;34m()\u001b[0m\n\u001b[0;32m     34\u001b[0m         \u001b[1;31m# Train models\u001b[0m\u001b[1;33m\u001b[0m\u001b[1;33m\u001b[0m\u001b[0m\n\u001b[0;32m     35\u001b[0m         model_xgb_dum = xgb.train(params, xgtrain_dum, num_rounds, watchlist_dum,\n\u001b[1;32m---> 36\u001b[1;33m                           feval= Gini, early_stopping_rounds=200,verbose_eval=False)\n\u001b[0m\u001b[0;32m     37\u001b[0m         model_xgb_gr  = xgb.train(params,  xgtrain_gr, num_rounds, watchlist_gr,\n\u001b[0;32m     38\u001b[0m                           feval= Gini, early_stopping_rounds=200,verbose_eval=False)\n",
      "\u001b[1;32m/home/sergey/anaconda3/lib/python3.4/site-packages/xgboost-0.4-py3.4.egg/xgboost/training.py\u001b[0m in \u001b[0;36mtrain\u001b[1;34m(params, dtrain, num_boost_round, evals, obj, feval, early_stopping_rounds, evals_result, verbose_eval)\u001b[0m\n\u001b[0;32m    107\u001b[0m \u001b[1;33m\u001b[0m\u001b[0m\n\u001b[0;32m    108\u001b[0m         \u001b[1;32mfor\u001b[0m \u001b[0mi\u001b[0m \u001b[1;32min\u001b[0m \u001b[0mrange\u001b[0m\u001b[1;33m(\u001b[0m\u001b[0mnum_boost_round\u001b[0m\u001b[1;33m)\u001b[0m\u001b[1;33m:\u001b[0m\u001b[1;33m\u001b[0m\u001b[0m\n\u001b[1;32m--> 109\u001b[1;33m             \u001b[0mbst\u001b[0m\u001b[1;33m.\u001b[0m\u001b[0mupdate\u001b[0m\u001b[1;33m(\u001b[0m\u001b[0mdtrain\u001b[0m\u001b[1;33m,\u001b[0m \u001b[0mi\u001b[0m\u001b[1;33m,\u001b[0m \u001b[0mobj\u001b[0m\u001b[1;33m)\u001b[0m\u001b[1;33m\u001b[0m\u001b[0m\n\u001b[0m\u001b[0;32m    110\u001b[0m             \u001b[0mbst_eval_set\u001b[0m \u001b[1;33m=\u001b[0m \u001b[0mbst\u001b[0m\u001b[1;33m.\u001b[0m\u001b[0meval_set\u001b[0m\u001b[1;33m(\u001b[0m\u001b[0mevals\u001b[0m\u001b[1;33m,\u001b[0m \u001b[0mi\u001b[0m\u001b[1;33m,\u001b[0m \u001b[0mfeval\u001b[0m\u001b[1;33m)\u001b[0m\u001b[1;33m\u001b[0m\u001b[0m\n\u001b[0;32m    111\u001b[0m \u001b[1;33m\u001b[0m\u001b[0m\n",
      "\u001b[1;32m/home/sergey/anaconda3/lib/python3.4/site-packages/xgboost-0.4-py3.4.egg/xgboost/core.py\u001b[0m in \u001b[0;36mupdate\u001b[1;34m(self, dtrain, iteration, fobj)\u001b[0m\n\u001b[0;32m    515\u001b[0m             \u001b[1;32mraise\u001b[0m \u001b[0mTypeError\u001b[0m\u001b[1;33m(\u001b[0m\u001b[1;34m'invalid training matrix: {}'\u001b[0m\u001b[1;33m.\u001b[0m\u001b[0mformat\u001b[0m\u001b[1;33m(\u001b[0m\u001b[0mtype\u001b[0m\u001b[1;33m(\u001b[0m\u001b[0mdtrain\u001b[0m\u001b[1;33m)\u001b[0m\u001b[1;33m.\u001b[0m\u001b[0m__name__\u001b[0m\u001b[1;33m)\u001b[0m\u001b[1;33m)\u001b[0m\u001b[1;33m\u001b[0m\u001b[0m\n\u001b[0;32m    516\u001b[0m         \u001b[1;32mif\u001b[0m \u001b[0mfobj\u001b[0m \u001b[1;32mis\u001b[0m \u001b[1;32mNone\u001b[0m\u001b[1;33m:\u001b[0m\u001b[1;33m\u001b[0m\u001b[0m\n\u001b[1;32m--> 517\u001b[1;33m             \u001b[0m_check_call\u001b[0m\u001b[1;33m(\u001b[0m\u001b[0m_LIB\u001b[0m\u001b[1;33m.\u001b[0m\u001b[0mXGBoosterUpdateOneIter\u001b[0m\u001b[1;33m(\u001b[0m\u001b[0mself\u001b[0m\u001b[1;33m.\u001b[0m\u001b[0mhandle\u001b[0m\u001b[1;33m,\u001b[0m \u001b[0miteration\u001b[0m\u001b[1;33m,\u001b[0m \u001b[0mdtrain\u001b[0m\u001b[1;33m.\u001b[0m\u001b[0mhandle\u001b[0m\u001b[1;33m)\u001b[0m\u001b[1;33m)\u001b[0m\u001b[1;33m\u001b[0m\u001b[0m\n\u001b[0m\u001b[0;32m    518\u001b[0m         \u001b[1;32melse\u001b[0m\u001b[1;33m:\u001b[0m\u001b[1;33m\u001b[0m\u001b[0m\n\u001b[0;32m    519\u001b[0m             \u001b[0mpred\u001b[0m \u001b[1;33m=\u001b[0m \u001b[0mself\u001b[0m\u001b[1;33m.\u001b[0m\u001b[0mpredict\u001b[0m\u001b[1;33m(\u001b[0m\u001b[0mdtrain\u001b[0m\u001b[1;33m)\u001b[0m\u001b[1;33m\u001b[0m\u001b[0m\n",
      "\u001b[1;31mKeyboardInterrupt\u001b[0m: "
     ]
    }
   ],
   "source": [
    "preds_xgb_dum = []\n",
    "preds_xgb_gr = []\n",
    "submit_xgb_dum = []\n",
    "submit_xgb_gr = []\n",
    "true_label = []\n",
    "tr_ind = []\n",
    "i = 1\n",
    "xgtest_dum = xgb.DMatrix(test_dum)\n",
    "xgtest_gr  = xgb.DMatrix(test_gr)\n",
    "\n",
    "for j in range(2):\n",
    "#    folds = cv.StratifiedKFold(labels, n_folds = 5, shuffle=True)\n",
    "    folds = cv.KFold(len(labels), n_folds = 5, shuffle=True)\n",
    "    for train_ind, val_ind in folds:\n",
    "        # Prepare group and dummy train sets\n",
    "        X_train_dum = train_dum[train_ind,:]\n",
    "        X_train_gr  = train_gr[train_ind,:]\n",
    "        y_train = labels[train_ind]\n",
    "        # Prepare group and dummy val sets\n",
    "        X_val_dum = train_dum[val_ind,:]\n",
    "        X_val_gr  = train_gr[val_ind,:]\n",
    "        y_val = labels[val_ind]\n",
    "        true_label.append(y_val)\n",
    "        tr_ind.append(train_ind)\n",
    "        # Prepare group and dummy train sets for XGB\n",
    "        xgtrain_dum = xgb.DMatrix(X_train_dum, label=y_train)\n",
    "        xgtrain_gr = xgb.DMatrix(X_train_gr, label=y_train)\n",
    "        # Prepare group and dummy validation sets\n",
    "        xgval_dum = xgb.DMatrix(X_val_dum, label=y_val)\n",
    "        xgval_gr = xgb.DMatrix(X_val_gr, label=y_val)\n",
    "        # Prepare group and dummy watchlists\n",
    "        watchlist_dum = [(xgtrain_dum, 'train'),(xgval_dum, 'val')]\n",
    "        watchlist_gr =  [(xgtrain_gr,  'train'),( xgval_gr, 'val')]\n",
    "        # Train models\n",
    "        model_xgb_dum = xgb.train(params, xgtrain_dum, num_rounds, watchlist_dum,\n",
    "                          feval= Gini, early_stopping_rounds=200,verbose_eval=False)\n",
    "        model_xgb_gr  = xgb.train(params,  xgtrain_gr, num_rounds, watchlist_gr,\n",
    "                          feval= Gini, early_stopping_rounds=200,verbose_eval=False)\n",
    "#        model_rf_dum.fit(X_train_dum, y_train)\n",
    "#        model_rf_gr.fit(X_train_gr, y_train)\n",
    "        # Predictions\n",
    "        xgb_preds_dum = model_xgb_dum.predict(xgval_dum, ntree_limit = model_xgb_dum.best_iteration)\n",
    "        xgb_preds_gr = model_xgb_gr.predict(xgval_gr, ntree_limit = model_xgb_gr.best_iteration)\n",
    "#        rf_preds_dum = model_rf_dum.predict(X_val_dum)\n",
    "#        rf_preds_gr = model_rf_gr.predict(X_val_gr)\n",
    "        # Store predictions\n",
    "        preds_xgb_dum.append(xgb_preds_dum)\n",
    "        preds_xgb_gr.append(xgb_preds_gr)\n",
    "        submit_xgb_dum.append(model_xgb_dum.predict(xgtest_dum, ntree_limit = model_xgb_dum.best_iteration))\n",
    "        submit_xgb_gr.append(model_xgb_gr.predict(xgtest_gr, ntree_limit = model_xgb_gr.best_iteration))\n",
    "        print('Fold {} | xgb_dum Gini {:.6f} | xgb_gr Gini {:.6f}'.\\\n",
    "              format(i, Gini_predict(y_val, xgb_preds_dum), Gini_predict(y_val, xgb_preds_gr)))\n",
    "        i+=1"
   ]
  },
  {
   "cell_type": "code",
   "execution_count": null,
   "metadata": {
    "collapsed": false
   },
   "outputs": [],
   "source": [
    "gini = 0\n",
    "weights_xgb = {}\n",
    "final = list(zip(true_label, preds_xgb_dum, preds_xgb_gr))\n",
    "for w in np.linspace(0,1,11):\n",
    "    for p1 in np.linspace(0,1,21):\n",
    "        for p2 in np.linspace(0,1,21):\n",
    "            gini_fold = []\n",
    "            for item in final:\n",
    "                pred = w * (item[1]**p1) + (1-w) *(item[2]**p2)\n",
    "                gini_fold.append(Gini_predict(item[0], pred))\n",
    "            mean_gini = np.mean(gini_fold)\n",
    "            if  mean_gini > gini:\n",
    "                gini = mean_gini\n",
    "                weights_xgb['w'] = w\n",
    "                weights_xgb['p1']= p1\n",
    "                weights_xgb['p2']= p2\n",
    "                weights_xgb['gini'] = gini\n",
    "    print('Weight is: {}'.format(w))\n",
    "                    \n",
    "weights_xgb['gini']"
   ]
  },
  {
   "cell_type": "code",
   "execution_count": null,
   "metadata": {
    "collapsed": false
   },
   "outputs": [],
   "source": [
    "weights_xgb"
   ]
  }
 ],
 "metadata": {
  "kernelspec": {
   "display_name": "Python 3",
   "language": "python",
   "name": "python3"
  },
  "language_info": {
   "codemirror_mode": {
    "name": "ipython",
    "version": 3
   },
   "file_extension": ".py",
   "mimetype": "text/x-python",
   "name": "python",
   "nbconvert_exporter": "python",
   "pygments_lexer": "ipython3",
   "version": "3.4.3"
  }
 },
 "nbformat": 4,
 "nbformat_minor": 0
}
