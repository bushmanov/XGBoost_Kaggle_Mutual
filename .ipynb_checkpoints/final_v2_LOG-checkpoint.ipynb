{
 "cells": [
  {
   "cell_type": "code",
   "execution_count": 1,
   "metadata": {
    "collapsed": true
   },
   "outputs": [],
   "source": [
    "import pandas as pd\n",
    "import patsy\n",
    "import numpy as np \n",
    "import xgboost as xgb\n",
    "import sklearn.cross_validation as cv\n",
    "import sklearn.ensemble as ens"
   ]
  },
  {
   "cell_type": "code",
   "execution_count": 2,
   "metadata": {
    "collapsed": true
   },
   "outputs": [],
   "source": [
    "def Gini(y_pred, dtrain):\n",
    "    '''\n",
    "    A helper function for XGBOOST early stopping\n",
    "    Used as parameter feval = Gini\n",
    "    y-pred: predicctions from a model, ndarray\n",
    "    dtrain: true labels, DMatrix\n",
    "    Returns: metrics label and value of a \"Gini\" metrics of missordered labels\n",
    "    The returned value is negative to ensure minimization\n",
    "    '''\n",
    "    y_true = dtrain.get_label()\n",
    "    # check and get number of samples\n",
    "    assert y_true.shape == y_pred.shape\n",
    "    n_samples = y_true.shape[0]\n",
    "    \n",
    "    # sort rows on prediction column \n",
    "    # (from largest to smallest)\n",
    "    arr = np.array([y_true, y_pred]).transpose()\n",
    "    true_order = arr[arr[:,0].argsort()][::-1,0]\n",
    "    pred_order = arr[arr[:,1].argsort()][::-1,0]\n",
    "    \n",
    "    # get Lorenz curves\n",
    "    L_true = np.cumsum(true_order) / np.sum(true_order)\n",
    "    L_pred = np.cumsum(pred_order) / np.sum(pred_order)\n",
    "    L_ones = np.linspace(0, 1, n_samples)\n",
    "    \n",
    "    # get Gini coefficients (area between curves)\n",
    "    G_true = np.sum(L_ones - L_true)\n",
    "    G_pred = np.sum(L_ones - L_pred)\n",
    "    \n",
    "    # normalize to true Gini coefficient\n",
    "    return 'Gini', -G_pred/G_true"
   ]
  },
  {
   "cell_type": "code",
   "execution_count": 3,
   "metadata": {
    "collapsed": true
   },
   "outputs": [],
   "source": [
    "def Gini_predict(y_true, y_pred):\n",
    "    '''\n",
    "    more general than above as accepts labels and returns score\n",
    "    '''\n",
    "    # check and get number of samples\n",
    "    assert y_true.shape == y_pred.shape\n",
    "    n_samples = y_true.shape[0]\n",
    "    \n",
    "    # sort rows on prediction column \n",
    "    # (from largest to smallest)\n",
    "    arr = np.array([y_true, y_pred]).transpose()\n",
    "    true_order = arr[arr[:,0].argsort()][::-1,0]\n",
    "    pred_order = arr[arr[:,1].argsort()][::-1,0]\n",
    "    \n",
    "    # get Lorenz curves\n",
    "    L_true = np.cumsum(true_order) / np.sum(true_order)\n",
    "    L_pred = np.cumsum(pred_order) / np.sum(pred_order)\n",
    "    L_ones = np.linspace(0, 1, n_samples)\n",
    "    \n",
    "    # get Gini coefficients (area between curves)\n",
    "    G_true = np.sum(L_ones - L_true)\n",
    "    G_pred = np.sum(L_ones - L_pred)\n",
    "    \n",
    "    # normalize to true Gini coefficient\n",
    "    return G_pred/G_true"
   ]
  },
  {
   "cell_type": "markdown",
   "metadata": {},
   "source": [
    "#### Load data"
   ]
  },
  {
   "cell_type": "code",
   "execution_count": 4,
   "metadata": {
    "collapsed": true
   },
   "outputs": [],
   "source": [
    "tr = pd.read_csv('./train.csv', sep = ',', index_col = 'Id')\n",
    "te =  pd.read_csv('./test.csv', sep = ',',index_col = 'Id')\n",
    "labels = tr['Hazard'].values\n",
    "\n",
    "full =  pd.concat(objs = [tr,te])\n",
    "full.drop(['T1_V10', 'T1_V13', 'T2_V7', 'T2_V10'], axis=1, inplace = 1)\n",
    "full_cat = full.select_dtypes(include = ['object'])\n",
    "full_num = full.select_dtypes(exclude = ['object'])"
   ]
  },
  {
   "cell_type": "markdown",
   "metadata": {},
   "source": [
    "#### Prepare train and test with GROUPED categorical variables"
   ]
  },
  {
   "cell_type": "code",
   "execution_count": 5,
   "metadata": {
    "collapsed": true
   },
   "outputs": [],
   "source": [
    "x_cat = full_cat.apply(func = lambda x: np.unique(x, return_inverse =1)[1], axis=0)\n",
    "\n",
    "full_gr = pd.concat([full_num,x_cat], axis=1)\n",
    "split = np.isnan(full.Hazard)\n",
    "\n",
    "train_gr = full_gr[~split].drop('Hazard', axis=1).values\n",
    "test_gr = full_gr[split].drop('Hazard', axis=1).values"
   ]
  },
  {
   "cell_type": "markdown",
   "metadata": {},
   "source": [
    "#### Prepare train and test sets with DUMMIFIED categorical variables"
   ]
  },
  {
   "cell_type": "code",
   "execution_count": 6,
   "metadata": {
    "collapsed": true
   },
   "outputs": [],
   "source": [
    "cat_names = full_cat.columns    \n",
    "form = ' + '.join(cat_names)\n",
    "form += ' - 1'\n",
    "x_dummies = patsy.dmatrix(form, full_cat, return_type='dataframe')\n",
    "full_dum = pd.concat([full_num, x_dummies], axis = 1)\n",
    "\n",
    "train_dum = full_dum[~split].drop('Hazard', axis=1).values\n",
    "test_dum = full_dum[split].drop('Hazard', axis=1).values"
   ]
  },
  {
   "cell_type": "markdown",
   "metadata": {},
   "source": [
    "#### Prepare RandomForest"
   ]
  },
  {
   "cell_type": "code",
   "execution_count": 7,
   "metadata": {
    "collapsed": true
   },
   "outputs": [],
   "source": [
    "ntrees = 300\n",
    "seed = 1\n",
    "model_rf_dum = ens.RandomForestRegressor(n_estimators = ntrees, random_state = seed, n_jobs = -1,\n",
    "                                         max_features = 36, min_samples_leaf = 13)\n",
    "model_rf_gr  = ens.RandomForestRegressor(n_estimators = ntrees, random_state = seed, n_jobs = -1,\n",
    "                                         max_depth= 10, min_samples_leaf = 13)"
   ]
  },
  {
   "cell_type": "markdown",
   "metadata": {},
   "source": [
    "#### Prepare XGBOOST"
   ]
  },
  {
   "cell_type": "code",
   "execution_count": 8,
   "metadata": {
    "collapsed": true
   },
   "outputs": [],
   "source": [
    "num_rounds = 10000\n",
    "params = {  \"objective\": \"reg:linear\"\n",
    "          , \"eta\": 0.01\n",
    "          , \"min_child_weight\": 10\n",
    "          , \"subsample\": 0.6\n",
    "          , \"colsample_bytree\": 0.7\n",
    "          , \"scale_pos_weight\": 1\n",
    "          , \"silent\": 1\n",
    "          , \"max_depth\": 9}"
   ]
  },
  {
   "cell_type": "markdown",
   "metadata": {},
   "source": [
    "#### Train"
   ]
  },
  {
   "cell_type": "code",
   "execution_count": 9,
   "metadata": {
    "collapsed": false,
    "scrolled": true
   },
   "outputs": [
    {
     "name": "stderr",
     "output_type": "stream",
     "text": [
      "/home/sergey/anaconda3/lib/python3.4/site-packages/sklearn/cross_validation.py:417: Warning: The least populated class in y has only 1 members, which is too few. The minimum number of labels for any class cannot be less than n_folds=5.\n",
      "  % (min_labels, self.n_folds)), Warning)\n",
      "Will train until val error hasn't decreased in 200 rounds.\n",
      "Stopping. Best iteration:\n",
      "[444]\ttrain-Gini:-0.558615\tval-Gini:-0.379389\n",
      "\n",
      "Will train until val error hasn't decreased in 200 rounds.\n",
      "Stopping. Best iteration:\n",
      "[350]\ttrain-Gini:-0.585418\tval-Gini:-0.381076\n",
      "\n",
      "Will train until val error hasn't decreased in 200 rounds.\n",
      "Stopping. Best iteration:\n",
      "[798]\ttrain-Gini:-0.621474\tval-Gini:-0.382971\n",
      "\n",
      "Will train until val error hasn't decreased in 200 rounds.\n",
      "Stopping. Best iteration:\n",
      "[456]\ttrain-Gini:-0.608957\tval-Gini:-0.379251\n",
      "\n"
     ]
    },
    {
     "name": "stdout",
     "output_type": "stream",
     "text": [
      "Fold 1 | xgb_dum Gini 0.378579 | xgb_gr Gini 0.379300 | rf_dum Gini 0.368210| rf_gr Gini 0.361626\n",
      "Fold 2 | xgb_dum Gini 0.381201 | xgb_gr Gini 0.378162 | rf_dum Gini 0.374937| rf_gr Gini 0.349831"
     ]
    },
    {
     "name": "stderr",
     "output_type": "stream",
     "text": [
      "Will train until val error hasn't decreased in 200 rounds.\n",
      "Stopping. Best iteration:\n",
      "[731]\ttrain-Gini:-0.610658\tval-Gini:-0.398193\n",
      "\n",
      "Will train until val error hasn't decreased in 200 rounds.\n",
      "Stopping. Best iteration:\n",
      "[618]\ttrain-Gini:-0.641604\tval-Gini:-0.398758\n",
      "\n"
     ]
    },
    {
     "name": "stdout",
     "output_type": "stream",
     "text": [
      "\n",
      "Fold 3 | xgb_dum Gini 0.396228 | xgb_gr Gini 0.397232 | rf_dum Gini 0.384540| rf_gr Gini 0.365492"
     ]
    },
    {
     "name": "stderr",
     "output_type": "stream",
     "text": [
      "Will train until val error hasn't decreased in 200 rounds.\n",
      "Stopping. Best iteration:\n",
      "[533]\ttrain-Gini:-0.576768\tval-Gini:-0.375483\n",
      "\n",
      "Will train until val error hasn't decreased in 200 rounds.\n",
      "Stopping. Best iteration:\n",
      "[435]\ttrain-Gini:-0.603679\tval-Gini:-0.380246\n",
      "\n"
     ]
    },
    {
     "name": "stdout",
     "output_type": "stream",
     "text": [
      "\n",
      "Fold 4 | xgb_dum Gini 0.374024 | xgb_gr Gini 0.378591 | rf_dum Gini 0.366498| rf_gr Gini 0.363551"
     ]
    },
    {
     "name": "stderr",
     "output_type": "stream",
     "text": [
      "Will train until val error hasn't decreased in 200 rounds.\n",
      "Stopping. Best iteration:\n",
      "[958]\ttrain-Gini:-0.645224\tval-Gini:-0.382779\n",
      "\n",
      "Will train until val error hasn't decreased in 200 rounds.\n",
      "Stopping. Best iteration:\n",
      "[712]\ttrain-Gini:-0.652474\tval-Gini:-0.383195\n",
      "\n"
     ]
    },
    {
     "name": "stdout",
     "output_type": "stream",
     "text": [
      "\n",
      "Fold 5 | xgb_dum Gini 0.381011 | xgb_gr Gini 0.380921 | rf_dum Gini 0.369180| rf_gr Gini 0.346270"
     ]
    },
    {
     "name": "stderr",
     "output_type": "stream",
     "text": [
      "/home/sergey/anaconda3/lib/python3.4/site-packages/sklearn/cross_validation.py:417: Warning: The least populated class in y has only 1 members, which is too few. The minimum number of labels for any class cannot be less than n_folds=5.\n",
      "  % (min_labels, self.n_folds)), Warning)\n",
      "Will train until val error hasn't decreased in 200 rounds.\n",
      "Stopping. Best iteration:\n",
      "[754]\ttrain-Gini:-0.608814\tval-Gini:-0.403695\n",
      "\n",
      "Will train until val error hasn't decreased in 200 rounds.\n",
      "Stopping. Best iteration:\n",
      "[391]\ttrain-Gini:-0.590178\tval-Gini:-0.406180\n",
      "\n"
     ]
    },
    {
     "name": "stdout",
     "output_type": "stream",
     "text": [
      "\n",
      "Fold 6 | xgb_dum Gini 0.401558 | xgb_gr Gini 0.405818 | rf_dum Gini 0.391899| rf_gr Gini 0.374201"
     ]
    },
    {
     "name": "stderr",
     "output_type": "stream",
     "text": [
      "Will train until val error hasn't decreased in 200 rounds.\n",
      "Stopping. Best iteration:\n",
      "[400]\ttrain-Gini:-0.549120\tval-Gini:-0.374839\n",
      "\n",
      "Will train until val error hasn't decreased in 200 rounds.\n",
      "Stopping. Best iteration:\n",
      "[495]\ttrain-Gini:-0.614370\tval-Gini:-0.374261\n",
      "\n"
     ]
    },
    {
     "name": "stdout",
     "output_type": "stream",
     "text": [
      "\n",
      "Fold 7 | xgb_dum Gini 0.372869 | xgb_gr Gini 0.373369 | rf_dum Gini 0.364712| rf_gr Gini 0.354090"
     ]
    },
    {
     "name": "stderr",
     "output_type": "stream",
     "text": [
      "Will train until val error hasn't decreased in 200 rounds.\n",
      "Stopping. Best iteration:\n",
      "[595]\ttrain-Gini:-0.586525\tval-Gini:-0.378129\n",
      "\n",
      "Will train until val error hasn't decreased in 200 rounds.\n",
      "Stopping. Best iteration:\n",
      "[737]\ttrain-Gini:-0.663595\tval-Gini:-0.378470\n",
      "\n"
     ]
    },
    {
     "name": "stdout",
     "output_type": "stream",
     "text": [
      "\n",
      "Fold 8 | xgb_dum Gini 0.376586 | xgb_gr Gini 0.375888 | rf_dum Gini 0.361978| rf_gr Gini 0.347157"
     ]
    },
    {
     "name": "stderr",
     "output_type": "stream",
     "text": [
      "Will train until val error hasn't decreased in 200 rounds.\n",
      "Stopping. Best iteration:\n",
      "[613]\ttrain-Gini:-0.591066\tval-Gini:-0.387793\n",
      "\n",
      "Will train until val error hasn't decreased in 200 rounds.\n",
      "Stopping. Best iteration:\n",
      "[799]\ttrain-Gini:-0.670023\tval-Gini:-0.380674\n",
      "\n"
     ]
    },
    {
     "name": "stdout",
     "output_type": "stream",
     "text": [
      "\n",
      "Fold 9 | xgb_dum Gini 0.386841 | xgb_gr Gini 0.378102 | rf_dum Gini 0.372040| rf_gr Gini 0.350744"
     ]
    },
    {
     "name": "stderr",
     "output_type": "stream",
     "text": [
      "Will train until val error hasn't decreased in 200 rounds.\n",
      "Stopping. Best iteration:\n",
      "[555]\ttrain-Gini:-0.585723\tval-Gini:-0.370061\n",
      "\n",
      "Will train until val error hasn't decreased in 200 rounds.\n",
      "Stopping. Best iteration:\n",
      "[540]\ttrain-Gini:-0.632172\tval-Gini:-0.375268\n",
      "\n"
     ]
    },
    {
     "name": "stdout",
     "output_type": "stream",
     "text": [
      "\n",
      "Fold 10 | xgb_dum Gini 0.369123 | xgb_gr Gini 0.373858 | rf_dum Gini 0.366221| rf_gr Gini 0.355270\n"
     ]
    }
   ],
   "source": [
    "preds_xgb_dum = []\n",
    "preds_xgb_gr = []\n",
    "preds_rf_dum = []\n",
    "preds_rf_gr = []\n",
    "true_label = []\n",
    "i = 1\n",
    "\n",
    "for j in range(2):\n",
    "    folds = cv.StratifiedKFold(labels, n_folds = 5, shuffle=True)\n",
    "    for train_ind, val_ind in folds:\n",
    "        # Prepare group and dummy train sets\n",
    "        X_train_dum = train_dum[train_ind,:]\n",
    "        X_train_gr  = train_gr[train_ind,:]\n",
    "        y_train = labels[train_ind]\n",
    "        # Prepare group and dummy val sets\n",
    "        X_val_dum = train_dum[val_ind,:]\n",
    "        X_val_gr  = train_gr[val_ind,:]\n",
    "        y_val = labels[val_ind]\n",
    "        true_label.append(y_val)\n",
    "        # Prepare group and dummy train sets for XGB\n",
    "        xgtrain_dum = xgb.DMatrix(X_train_dum, label=y_train)\n",
    "        xgtrain_gr = xgb.DMatrix(X_train_gr, label=y_train)\n",
    "        # Prepare group and dummy validation sets\n",
    "        xgval_dum = xgb.DMatrix(X_val_dum, label=y_val)\n",
    "        xgval_gr = xgb.DMatrix(X_val_gr, label=y_val)\n",
    "        # Prepare group and dummy watchlists\n",
    "        watchlist_dum = [(xgtrain_dum, 'train'),(xgval_dum, 'val')]\n",
    "        watchlist_gr =  [(xgtrain_gr,  'train'),( xgval_gr, 'val')]\n",
    "        # Train models\n",
    "        model_xgb_dum = xgb.train(params, xgtrain_dum, num_rounds, watchlist_dum,\n",
    "                          feval= Gini, early_stopping_rounds=200,verbose_eval=False)\n",
    "        model_xgb_gr  = xgb.train(params,  xgtrain_gr, num_rounds, watchlist_gr,\n",
    "                          feval= Gini, early_stopping_rounds=200,verbose_eval=False)\n",
    "        model_rf_dum.fit(X_train_dum, y_train)\n",
    "        model_rf_gr.fit(X_train_gr, y_train)\n",
    "        # Predictions\n",
    "        xgb_preds_dum = model_xgb_dum.predict(xgval_dum)\n",
    "        xgb_preds_gr = model_xgb_gr.predict(xgval_gr)\n",
    "        rf_preds_dum = model_rf_dum.predict(X_val_dum)\n",
    "        rf_preds_gr = model_rf_gr.predict(X_val_gr)\n",
    "        # Store predictions\n",
    "        preds_xgb_dum.append(xgb_preds_dum)\n",
    "        preds_xgb_gr.append(xgb_preds_gr)\n",
    "        preds_rf_dum.append(rf_preds_dum)\n",
    "        preds_rf_gr.append(rf_preds_gr)\n",
    "        print('Fold {} | xgb_dum Gini {:.6f} | xgb_gr Gini {:.6f} | rf_dum Gini {:.6f}| rf_gr Gini {:.6f}'.\\\n",
    "              format(i, Gini_predict(y_val, xgb_preds_dum), Gini_predict(y_val, xgb_preds_gr),\n",
    "                    Gini_predict(y_val, rf_preds_dum), Gini_predict(y_val, rf_preds_gr)))\n",
    "        i+=1"
   ]
  },
  {
   "cell_type": "code",
   "execution_count": 72,
   "metadata": {
    "collapsed": false
   },
   "outputs": [
    {
     "name": "stdout",
     "output_type": "stream",
     "text": [
      "Weight is: 0.0\n",
      "Weight is: 0.1\n",
      "Weight is: 0.2\n",
      "Weight is: 0.30000000000000004\n",
      "Weight is: 0.4\n",
      "Weight is: 0.5\n",
      "Weight is: 0.6000000000000001\n",
      "Weight is: 0.7000000000000001\n",
      "Weight is: 0.8\n",
      "Weight is: 0.9\n",
      "Weight is: 1.0\n"
     ]
    },
    {
     "data": {
      "text/plain": [
       "0.38505675068841427"
      ]
     },
     "execution_count": 72,
     "metadata": {},
     "output_type": "execute_result"
    }
   ],
   "source": [
    "gini = 0\n",
    "weights_xgb = {}\n",
    "final = list(zip(true_label, preds_xgb_dum, preds_xgb_gr))\n",
    "for w in np.linspace(0,1,11):\n",
    "    for p1 in np.linspace(0,1,21):\n",
    "        for p2 in np.linspace(0,1,21):\n",
    "            gini_fold = []\n",
    "            for item in final:\n",
    "                pred = w * (item[1]**p1) + (1-w) *(item[2]**p2)\n",
    "                gini_fold.append(Gini_predict(item[0], pred))\n",
    "            mean_gini = np.mean(gini_fold)\n",
    "            if  mean_gini > gini:\n",
    "                gini = mean_gini\n",
    "                weights_xgb['w'] = w\n",
    "                weights_xgb['p1']= p1\n",
    "                weights_xgb['p2']= p2\n",
    "                weights_xgb['gini'] = gini\n",
    "    print('Weight is: {}'.format(w))\n",
    "                    \n",
    "weights_xgb['gini']"
   ]
  },
  {
   "cell_type": "code",
   "execution_count": 73,
   "metadata": {
    "collapsed": false
   },
   "outputs": [
    {
     "data": {
      "text/plain": [
       "{'gini': 0.38505675068841427,\n",
       " 'p1': 0.050000000000000003,\n",
       " 'p2': 0.050000000000000003,\n",
       " 'w': 0.5}"
      ]
     },
     "execution_count": 73,
     "metadata": {},
     "output_type": "execute_result"
    }
   ],
   "source": [
    "weights_xgb"
   ]
  },
  {
   "cell_type": "code",
   "execution_count": 69,
   "metadata": {
    "collapsed": false,
    "scrolled": true
   },
   "outputs": [
    {
     "name": "stdout",
     "output_type": "stream",
     "text": [
      "Weight is: 0.0\n",
      "Weight is: 0.1\n",
      "Weight is: 0.2\n",
      "Weight is: 0.30000000000000004\n",
      "Weight is: 0.4\n",
      "Weight is: 0.5\n",
      "Weight is: 0.6000000000000001\n",
      "Weight is: 0.7000000000000001\n",
      "Weight is: 0.8\n",
      "Weight is: 0.9\n",
      "Weight is: 1.0\n"
     ]
    },
    {
     "data": {
      "text/plain": [
       "0.38311750407569795"
      ]
     },
     "execution_count": 69,
     "metadata": {},
     "output_type": "execute_result"
    }
   ],
   "source": [
    "gini = 0\n",
    "weights_rf = {}\n",
    "final = list(zip(true_label, preds_xgb_dum, preds_rf_dum))\n",
    "for w in np.linspace(0,1,11):\n",
    "    for p1 in np.linspace(0,1,21):\n",
    "        for p2 in np.linspace(0,1,21):\n",
    "            gini_fold = []\n",
    "            for item in final:\n",
    "                pred = w * (item[1]**p1) + (1-w) *(item[2]**p2)\n",
    "                gini_fold.append(Gini_predict(item[0], pred))\n",
    "            mean_gini = np.mean(gini_fold)\n",
    "            if  mean_gini > gini:\n",
    "                gini = mean_gini\n",
    "                weights_rf['w'] = w\n",
    "                weights_rf['p1']= p1\n",
    "                weights_rf['p2']= p2\n",
    "                weights_rf['gini'] = gini\n",
    "    print('Weight is: {}'.format(w))\n",
    "                    \n",
    "weights_rf['gini']"
   ]
  },
  {
   "cell_type": "code",
   "execution_count": 71,
   "metadata": {
    "collapsed": false
   },
   "outputs": [
    {
     "data": {
      "text/plain": [
       "{'gini': 0.38311750407569795,\n",
       " 'p1': 0.050000000000000003,\n",
       " 'p2': 0.050000000000000003,\n",
       " 'w': 0.70000000000000007}"
      ]
     },
     "execution_count": 71,
     "metadata": {},
     "output_type": "execute_result"
    }
   ],
   "source": [
    "weights"
   ]
  },
  {
   "cell_type": "code",
   "execution_count": 74,
   "metadata": {
    "collapsed": false,
    "scrolled": true
   },
   "outputs": [
    {
     "name": "stdout",
     "output_type": "stream",
     "text": [
      "Weight is: 0.0\n",
      "Weight is: 0.1\n",
      "Weight is: 0.2\n",
      "Weight is: 0.30000000000000004\n",
      "Weight is: 0.4\n",
      "Weight is: 0.5\n",
      "Weight is: 0.6000000000000001\n",
      "Weight is: 0.7000000000000001\n",
      "Weight is: 0.8\n",
      "Weight is: 0.9\n",
      "Weight is: 1.0\n"
     ]
    },
    {
     "data": {
      "text/plain": [
       "0.38306744208795834"
      ]
     },
     "execution_count": 74,
     "metadata": {},
     "output_type": "execute_result"
    }
   ],
   "source": [
    "gini = 0\n",
    "weights_rf2 = {}\n",
    "final = list(zip(true_label, preds_xgb_dum, preds_rf_dum))\n",
    "for w in np.linspace(0,1,11):\n",
    "    gini_fold = []\n",
    "    for item in final:\n",
    "        pred = w * item[1] + (1-w) * item[2]\n",
    "        gini_fold.append(Gini_predict(item[0], pred))\n",
    "    mean_gini = np.mean(gini_fold)\n",
    "    if  mean_gini > gini:\n",
    "        gini = mean_gini\n",
    "        weights_rf2['w'] = w\n",
    "        weights_rf2['gini'] = gini\n",
    "    print('Weight is: {}'.format(w))\n",
    "                    \n",
    "weights_rf2['gini']"
   ]
  },
  {
   "cell_type": "code",
   "execution_count": 76,
   "metadata": {
    "collapsed": false,
    "scrolled": true
   },
   "outputs": [
    {
     "name": "stdout",
     "output_type": "stream",
     "text": [
      "Weight is: 0.0\n",
      "Weight is: 0.01\n",
      "Weight is: 0.02\n",
      "Weight is: 0.03\n",
      "Weight is: 0.04\n",
      "Weight is: 0.05\n",
      "Weight is: 0.06\n",
      "Weight is: 0.07\n",
      "Weight is: 0.08\n",
      "Weight is: 0.09\n",
      "Weight is: 0.1\n",
      "Weight is: 0.11\n",
      "Weight is: 0.12\n",
      "Weight is: 0.13\n",
      "Weight is: 0.14\n",
      "Weight is: 0.15\n",
      "Weight is: 0.16\n",
      "Weight is: 0.17\n",
      "Weight is: 0.18\n",
      "Weight is: 0.19\n",
      "Weight is: 0.2\n",
      "Weight is: 0.21\n",
      "Weight is: 0.22\n",
      "Weight is: 0.23\n",
      "Weight is: 0.24\n",
      "Weight is: 0.25\n",
      "Weight is: 0.26\n",
      "Weight is: 0.27\n",
      "Weight is: 0.28\n",
      "Weight is: 0.29\n",
      "Weight is: 0.3\n",
      "Weight is: 0.31\n",
      "Weight is: 0.32\n",
      "Weight is: 0.33\n",
      "Weight is: 0.34\n",
      "Weight is: 0.35000000000000003\n",
      "Weight is: 0.36\n",
      "Weight is: 0.37\n",
      "Weight is: 0.38\n",
      "Weight is: 0.39\n",
      "Weight is: 0.4\n",
      "Weight is: 0.41000000000000003\n",
      "Weight is: 0.42\n",
      "Weight is: 0.43\n",
      "Weight is: 0.44\n",
      "Weight is: 0.45\n",
      "Weight is: 0.46\n",
      "Weight is: 0.47000000000000003\n",
      "Weight is: 0.48\n",
      "Weight is: 0.49\n",
      "Weight is: 0.5\n",
      "Weight is: 0.51\n",
      "Weight is: 0.52\n",
      "Weight is: 0.53\n",
      "Weight is: 0.54\n",
      "Weight is: 0.55\n",
      "Weight is: 0.56\n",
      "Weight is: 0.5700000000000001\n",
      "Weight is: 0.58\n",
      "Weight is: 0.59\n",
      "Weight is: 0.6\n",
      "Weight is: 0.61\n",
      "Weight is: 0.62\n",
      "Weight is: 0.63\n",
      "Weight is: 0.64\n",
      "Weight is: 0.65\n",
      "Weight is: 0.66\n",
      "Weight is: 0.67\n",
      "Weight is: 0.68\n",
      "Weight is: 0.6900000000000001\n",
      "Weight is: 0.7000000000000001\n",
      "Weight is: 0.71\n",
      "Weight is: 0.72\n",
      "Weight is: 0.73\n",
      "Weight is: 0.74\n",
      "Weight is: 0.75\n",
      "Weight is: 0.76\n",
      "Weight is: 0.77\n",
      "Weight is: 0.78\n",
      "Weight is: 0.79\n",
      "Weight is: 0.8\n",
      "Weight is: 0.81\n",
      "Weight is: 0.8200000000000001\n",
      "Weight is: 0.8300000000000001\n",
      "Weight is: 0.84\n",
      "Weight is: 0.85\n",
      "Weight is: 0.86\n",
      "Weight is: 0.87\n",
      "Weight is: 0.88\n",
      "Weight is: 0.89\n",
      "Weight is: 0.9\n",
      "Weight is: 0.91\n",
      "Weight is: 0.92\n",
      "Weight is: 0.93\n",
      "Weight is: 0.9400000000000001\n",
      "Weight is: 0.9500000000000001\n",
      "Weight is: 0.96\n",
      "Weight is: 0.97\n",
      "Weight is: 0.98\n",
      "Weight is: 0.99\n",
      "Weight is: 1.0\n"
     ]
    },
    {
     "data": {
      "text/plain": [
       "0.38308043968880068"
      ]
     },
     "execution_count": 76,
     "metadata": {},
     "output_type": "execute_result"
    }
   ],
   "source": [
    "gini = 0\n",
    "weights_rf2 = {}\n",
    "final = list(zip(true_label, preds_xgb_dum, preds_rf_dum))\n",
    "for w in np.linspace(0,1,101):\n",
    "    gini_fold = []\n",
    "    for item in final:\n",
    "        pred = w * item[1] + (1-w) * item[2]\n",
    "        gini_fold.append(Gini_predict(item[0], pred))\n",
    "    mean_gini = np.mean(gini_fold)\n",
    "    if  mean_gini > gini:\n",
    "        gini = mean_gini\n",
    "        weights_rf2['w'] = w\n",
    "        weights_rf2['gini'] = gini\n",
    "    print('Weight is: {}'.format(w))\n",
    "                    \n",
    "weights_rf2['gini']"
   ]
  },
  {
   "cell_type": "code",
   "execution_count": 77,
   "metadata": {
    "collapsed": false
   },
   "outputs": [
    {
     "data": {
      "text/plain": [
       "{'gini': 0.38308043968880068, 'w': 0.72999999999999998}"
      ]
     },
     "execution_count": 77,
     "metadata": {},
     "output_type": "execute_result"
    }
   ],
   "source": [
    "weights_rf2"
   ]
  }
 ],
 "metadata": {
  "kernelspec": {
   "display_name": "Python 3",
   "language": "python",
   "name": "python3"
  },
  "language_info": {
   "codemirror_mode": {
    "name": "ipython",
    "version": 3
   },
   "file_extension": ".py",
   "mimetype": "text/x-python",
   "name": "python",
   "nbconvert_exporter": "python",
   "pygments_lexer": "ipython3",
   "version": "3.4.3"
  }
 },
 "nbformat": 4,
 "nbformat_minor": 0
}
