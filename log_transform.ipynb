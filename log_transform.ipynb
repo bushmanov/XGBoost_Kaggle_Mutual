{
 "cells": [
  {
   "cell_type": "code",
   "execution_count": 4,
   "metadata": {
    "collapsed": true
   },
   "outputs": [],
   "source": [
    "import matplotlib.pyplot as plt\n",
    "import numpy as np\n",
    "import pandas as pd\n",
    "import patsy\n",
    "import sklearn.grid_search as gs\n",
    "import sklearn.cross_validation as cv\n",
    "import sklearn.ensemble as ens\n",
    "import sklearn.metrics as mts\n",
    "%matplotlib inline"
   ]
  },
  {
   "cell_type": "code",
   "execution_count": 5,
   "metadata": {
    "collapsed": false
   },
   "outputs": [],
   "source": [
    "def Gini(y_true, y_pred):\n",
    "    # check and get number of samples\n",
    "    assert y_true.shape == y_pred.shape\n",
    "    n_samples = y_true.shape[0]\n",
    "    \n",
    "    # sort rows on prediction column \n",
    "    # (from largest to smallest)\n",
    "    arr = np.array([y_true, y_pred]).transpose()\n",
    "    true_order = arr[arr[:,0].argsort()][::-1,0]\n",
    "    pred_order = arr[arr[:,1].argsort()][::-1,0]\n",
    "    \n",
    "    # get Lorenz curves\n",
    "    L_true = np.cumsum(true_order) / np.sum(true_order)\n",
    "    L_pred = np.cumsum(pred_order) / np.sum(pred_order)\n",
    "    L_ones = np.linspace(0, 1, n_samples)\n",
    "    \n",
    "    # get Gini coefficients (area between curves)\n",
    "    G_true = np.sum(L_ones - L_true)\n",
    "    G_pred = np.sum(L_ones - L_pred)\n",
    "    \n",
    "    # normalize to true Gini coefficient\n",
    "    return G_pred/G_true\n",
    "\n",
    "scorer = mts.make_scorer(Gini)"
   ]
  },
  {
   "cell_type": "code",
   "execution_count": 12,
   "metadata": {
    "collapsed": true
   },
   "outputs": [],
   "source": [
    "train = pd.read_csv('./train.csv', sep = ',', index_col = 'Id')\n",
    "train_ind = train.index\n",
    "\n",
    "test = pd.read_csv('./test.csv', sep = ',',index_col = 'Id')\n",
    "test_ind = test.index\n",
    "\n",
    "full = pd.concat(objs = [train, test])\n",
    "full.drop(['T1_V10', 'T1_V13','T2_V7', 'T2_V10'], axis=1, inplace = 1)"
   ]
  },
  {
   "cell_type": "code",
   "execution_count": 15,
   "metadata": {
    "collapsed": false
   },
   "outputs": [
    {
     "data": {
      "text/plain": [
       "(Index(['Hazard', 'T1_V1', 'T1_V11', 'T1_V12', 'T1_V14', 'T1_V15', 'T1_V16',\n",
       "        'T1_V17', 'T1_V2', 'T1_V3', 'T1_V4', 'T1_V5', 'T1_V6', 'T1_V7', 'T1_V8',\n",
       "        'T1_V9', 'T2_V1', 'T2_V11', 'T2_V12', 'T2_V13', 'T2_V14', 'T2_V15',\n",
       "        'T2_V2', 'T2_V3', 'T2_V4', 'T2_V5', 'T2_V6', 'T2_V8', 'T2_V9'],\n",
       "       dtype='object'), 29)"
      ]
     },
     "execution_count": 15,
     "metadata": {},
     "output_type": "execute_result"
    }
   ],
   "source": [
    "full.columns, len(full.columns)"
   ]
  },
  {
   "cell_type": "code",
   "execution_count": 18,
   "metadata": {
    "collapsed": false
   },
   "outputs": [
    {
     "data": {
      "text/plain": [
       "T1_V1\n",
       "1     3.267954\n",
       "2     3.274858\n",
       "3     3.962464\n",
       "4     4.143391\n",
       "5     3.882642\n",
       "6     3.652564\n",
       "7     3.862663\n",
       "8     4.161010\n",
       "9     4.381741\n",
       "10    5.529346\n",
       "11    4.130397\n",
       "12    3.611129\n",
       "13    3.451284\n",
       "14    3.427475\n",
       "15    3.916905\n",
       "16    4.538949\n",
       "17    4.004981\n",
       "18    4.961089\n",
       "19    4.834016\n",
       "Name: Hazard, dtype: float64"
      ]
     },
     "execution_count": 18,
     "metadata": {},
     "output_type": "execute_result"
    }
   ],
   "source": [
    "full.groupby('T1_V1')['Hazard'].agg('mean')"
   ]
  },
  {
   "cell_type": "code",
   "execution_count": 21,
   "metadata": {
    "collapsed": false
   },
   "outputs": [
    {
     "data": {
      "image/png": "[encoded data removed]",
      "text/plain": [
       "<matplotlib.figure.Figure at 0x7fc5f3557860>"
      ]
     },
     "metadata": {},
     "output_type": "display_data"
    }
   ],
   "source": [
    "full.boxplot('Hazard', by='T1_V1');"
   ]
  },
  {
   "cell_type": "code",
   "execution_count": 23,
   "metadata": {
    "collapsed": false
   },
   "outputs": [
    {
     "data": {
      "image/png": "[encoded data removed]",
      "text/plain": [
       "<matplotlib.figure.Figure at 0x7fc5f338c6d8>"
      ]
     },
     "metadata": {},
     "output_type": "display_data"
    }
   ],
   "source": [
    "pd.DataFrame({'Hazard': np.log(full.Hazard), 'T1_V1': full.T1_V1}).boxplot('Hazard', 'T1_V1');"
   ]
  },
  {
   "cell_type": "markdown",
   "metadata": {},
   "source": [
    "## Train 1"
   ]
  },
  {
   "cell_type": "code",
   "execution_count": 24,
   "metadata": {
    "collapsed": true
   },
   "outputs": [],
   "source": [
    "full['Hazard'] = np.log(full.Hazard.values)"
   ]
  },
  {
   "cell_type": "code",
   "execution_count": 30,
   "metadata": {
    "collapsed": false
   },
   "outputs": [
    {
     "data": {
      "text/plain": [
       "0.32204930791651881"
      ]
     },
     "execution_count": 30,
     "metadata": {},
     "output_type": "execute_result"
    }
   ],
   "source": [
    "ntrees = 1000\n",
    "seed = 1\n",
    "params_rf = {'max_features': [38,40,42],\n",
    "             'min_samples_leaf': [8,9,10]}\n",
    "\n",
    "num_mask = np.array([True if obj != 'object' else False for obj in full.dtypes])\n",
    "full_num = full.iloc[:,num_mask]\n",
    "full_cat = full.iloc[:, ~num_mask]\n",
    "cat_names = full_cat.columns\n",
    "form = ' + '.join(cat_names)\n",
    "form += ' - 1'\n",
    "x_dummies = patsy.dmatrix(form, full_cat, return_type='dataframe')\n",
    "full_dummies = pd.concat([full_num, x_dummies], axis = 1)\n",
    "train.shape, full_num.shape, full_cat.shape, x_dummies.shape, full_dummies.shape\n",
    "split = np.isnan(full_dummies.Hazard)\n",
    "train = full_dummies.loc[~split,:]\n",
    "test  = full_dummies.loc[split ,:]\n",
    "x = train.drop('Hazard', axis=1).values\n",
    "y = train.Hazard.values\n",
    "\n",
    "mod_rf2 = ens.RandomForestRegressor(n_estimators = ntrees, random_state = seed, n_jobs = -1)\n",
    "grid_rf2 = gs.GridSearchCV(mod_rf2, param_grid=params_rf, n_jobs=-1, scoring = scorer, cv=5)\n",
    "\n",
    "grid_rf2.fit(x,y)\n",
    "\n",
    "grid_rf2.best_score_"
   ]
  },
  {
   "cell_type": "code",
   "execution_count": 31,
   "metadata": {
    "collapsed": false
   },
   "outputs": [
    {
     "data": {
      "text/plain": [
       "{'max_features': 38, 'min_samples_leaf': 10}"
      ]
     },
     "execution_count": 31,
     "metadata": {},
     "output_type": "execute_result"
    }
   ],
   "source": [
    "grid_rf2.best_params_"
   ]
  }
 ],
 "metadata": {
  "kernelspec": {
   "display_name": "Python 3",
   "language": "python",
   "name": "python3"
  },
  "language_info": {
   "codemirror_mode": {
    "name": "ipython",
    "version": 3
   },
   "file_extension": ".py",
   "mimetype": "text/x-python",
   "name": "python",
   "nbconvert_exporter": "python",
   "pygments_lexer": "ipython3",
   "version": "3.4.3"
  }
 },
 "nbformat": 4,
 "nbformat_minor": 0
}
