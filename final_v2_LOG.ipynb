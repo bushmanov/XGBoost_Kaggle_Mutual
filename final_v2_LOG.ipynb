{
 "cells": [
  {
   "cell_type": "code",
   "execution_count": 1,
   "metadata": {
    "collapsed": true
   },
   "outputs": [],
   "source": [
    "import pandas as pd\n",
    "import patsy\n",
    "import numpy as np \n",
    "import xgboost as xgb\n",
    "import sklearn.cross_validation as cv\n",
    "import sklearn.ensemble as ens"
   ]
  },
  {
   "cell_type": "code",
   "execution_count": 2,
   "metadata": {
    "collapsed": true
   },
   "outputs": [],
   "source": [
    "def Gini(y_pred, dtrain):\n",
    "    '''\n",
    "    A helper function for XGBOOST early stopping\n",
    "    Used as parameter feval = Gini\n",
    "    y-pred: predicctions from a model, ndarray\n",
    "    dtrain: true labels, DMatrix\n",
    "    Returns: metrics label and value of a \"Gini\" metrics of missordered labels\n",
    "    The returned value is negative to ensure minimization\n",
    "    '''\n",
    "    y_true = dtrain.get_label()\n",
    "    # check and get number of samples\n",
    "    assert y_true.shape == y_pred.shape\n",
    "    n_samples = y_true.shape[0]\n",
    "    \n",
    "    # sort rows on prediction column \n",
    "    # (from largest to smallest)\n",
    "    arr = np.array([y_true, y_pred]).transpose()\n",
    "    true_order = arr[arr[:,0].argsort()][::-1,0]\n",
    "    pred_order = arr[arr[:,1].argsort()][::-1,0]\n",
    "    \n",
    "    # get Lorenz curves\n",
    "    L_true = np.cumsum(true_order) / np.sum(true_order)\n",
    "    L_pred = np.cumsum(pred_order) / np.sum(pred_order)\n",
    "    L_ones = np.linspace(0, 1, n_samples)\n",
    "    \n",
    "    # get Gini coefficients (area between curves)\n",
    "    G_true = np.sum(L_ones - L_true)\n",
    "    G_pred = np.sum(L_ones - L_pred)\n",
    "    \n",
    "    # normalize to true Gini coefficient\n",
    "    return 'Gini', -G_pred/G_true"
   ]
  },
  {
   "cell_type": "code",
   "execution_count": 3,
   "metadata": {
    "collapsed": true
   },
   "outputs": [],
   "source": [
    "def Gini_predict(y_true, y_pred):\n",
    "    '''\n",
    "    more general than above as accepts labels and returns score\n",
    "    '''\n",
    "    # check and get number of samples\n",
    "    assert y_true.shape == y_pred.shape\n",
    "    n_samples = y_true.shape[0]\n",
    "    \n",
    "    # sort rows on prediction column \n",
    "    # (from largest to smallest)\n",
    "    arr = np.array([y_true, y_pred]).transpose()\n",
    "    true_order = arr[arr[:,0].argsort()][::-1,0]\n",
    "    pred_order = arr[arr[:,1].argsort()][::-1,0]\n",
    "    \n",
    "    # get Lorenz curves\n",
    "    L_true = np.cumsum(true_order) / np.sum(true_order)\n",
    "    L_pred = np.cumsum(pred_order) / np.sum(pred_order)\n",
    "    L_ones = np.linspace(0, 1, n_samples)\n",
    "    \n",
    "    # get Gini coefficients (area between curves)\n",
    "    G_true = np.sum(L_ones - L_true)\n",
    "    G_pred = np.sum(L_ones - L_pred)\n",
    "    \n",
    "    # normalize to true Gini coefficient\n",
    "    return G_pred/G_true"
   ]
  },
  {
   "cell_type": "markdown",
   "metadata": {},
   "source": [
    "#### Load data"
   ]
  },
  {
   "cell_type": "code",
   "execution_count": 4,
   "metadata": {
    "collapsed": true
   },
   "outputs": [],
   "source": [
    "tr = pd.read_csv('./train.csv', sep = ',', index_col = 'Id')\n",
    "te =  pd.read_csv('./test.csv', sep = ',',index_col = 'Id')\n",
    "labels = tr['Hazard'].values\n",
    "\n",
    "full =  pd.concat(objs = [tr,te])\n",
    "full.drop(['T1_V10', 'T1_V13', 'T2_V7', 'T2_V10'], axis=1, inplace = 1)\n",
    "full_cat = full.select_dtypes(include = ['object'])\n",
    "full_num = full.select_dtypes(exclude = ['object'])"
   ]
  },
  {
   "cell_type": "markdown",
   "metadata": {},
   "source": [
    "#### Prepare train and test with GROUPED categorical variables"
   ]
  },
  {
   "cell_type": "code",
   "execution_count": 5,
   "metadata": {
    "collapsed": true
   },
   "outputs": [],
   "source": [
    "x_cat = full_cat.apply(func = lambda x: np.unique(x, return_inverse =1)[1], axis=0)\n",
    "\n",
    "full_gr = pd.concat([full_num,x_cat], axis=1)\n",
    "split = np.isnan(full.Hazard)\n",
    "\n",
    "train_gr = full_gr[~split].drop('Hazard', axis=1).values\n",
    "test_gr = full_gr[split].drop('Hazard', axis=1).values"
   ]
  },
  {
   "cell_type": "markdown",
   "metadata": {},
   "source": [
    "#### Prepare train and test sets with DUMMIFIED categorical variables"
   ]
  },
  {
   "cell_type": "code",
   "execution_count": 6,
   "metadata": {
    "collapsed": true
   },
   "outputs": [],
   "source": [
    "cat_names = full_cat.columns    \n",
    "form = ' + '.join(cat_names)\n",
    "form += ' - 1'\n",
    "x_dummies = patsy.dmatrix(form, full_cat, return_type='dataframe')\n",
    "full_dum = pd.concat([full_num, x_dummies], axis = 1)\n",
    "\n",
    "train_dum = full_dum[~split].drop('Hazard', axis=1).values\n",
    "test_dum = full_dum[split].drop('Hazard', axis=1).values"
   ]
  },
  {
   "cell_type": "markdown",
   "metadata": {},
   "source": [
    "#### Prepare XGBOOST"
   ]
  },
  {
   "cell_type": "code",
   "execution_count": 8,
   "metadata": {
    "collapsed": true
   },
   "outputs": [],
   "source": [
    "num_rounds = 10000\n",
    "params = {  \"objective\": \"reg:linear\"\n",
    "          , \"eta\": 0.005\n",
    "          , \"min_child_weight\": 5\n",
    "          , \"subsample\": 0.6\n",
    "          , \"colsample_bytree\": 0.7\n",
    "          , \"scale_pos_weight\": 1\n",
    "          , \"silent\": 1\n",
    "          , \"max_depth\": 9}"
   ]
  },
  {
   "cell_type": "markdown",
   "metadata": {},
   "source": [
    "#### Train"
   ]
  },
  {
   "cell_type": "code",
   "execution_count": 16,
   "metadata": {
    "collapsed": false,
    "scrolled": true
   },
   "outputs": [
    {
     "name": "stderr",
     "output_type": "stream",
     "text": [
      "Will train until val error hasn't decreased in 200 rounds.\n",
      "Stopping. Best iteration:\n",
      "[642]\ttrain-Gini:-0.595043\tval-Gini:-0.377767\n",
      "\n",
      "Will train until val error hasn't decreased in 200 rounds.\n",
      "Stopping. Best iteration:\n",
      "[577]\ttrain-Gini:-0.631964\tval-Gini:-0.376365\n",
      "\n",
      "Will train until val error hasn't decreased in 200 rounds.\n",
      "Stopping. Best iteration:\n",
      "[561]\ttrain-Gini:-0.579630\tval-Gini:-0.399703\n",
      "\n",
      "Will train until val error hasn't decreased in 200 rounds.\n",
      "Stopping. Best iteration:\n",
      "[553]\ttrain-Gini:-0.627691\tval-Gini:-0.397538\n",
      "\n"
     ]
    },
    {
     "name": "stdout",
     "output_type": "stream",
     "text": [
      "Fold 1 | xgb_dum Gini 0.377742 | xgb_gr Gini 0.376320\n",
      "Fold 2 | xgb_dum Gini 0.399600 | xgb_gr Gini 0.397472"
     ]
    },
    {
     "name": "stderr",
     "output_type": "stream",
     "text": [
      "Will train until val error hasn't decreased in 200 rounds.\n",
      "Stopping. Best iteration:\n",
      "[549]\ttrain-Gini:-0.577391\tval-Gini:-0.384281\n",
      "\n",
      "Will train until val error hasn't decreased in 200 rounds.\n",
      "Stopping. Best iteration:\n",
      "[456]\ttrain-Gini:-0.609361\tval-Gini:-0.388140\n",
      "\n"
     ]
    },
    {
     "name": "stdout",
     "output_type": "stream",
     "text": [
      "\n",
      "Fold 3 | xgb_dum Gini 0.384262 | xgb_gr Gini 0.388032"
     ]
    },
    {
     "name": "stderr",
     "output_type": "stream",
     "text": [
      "Will train until val error hasn't decreased in 200 rounds.\n",
      "Stopping. Best iteration:\n",
      "[590]\ttrain-Gini:-0.591883\tval-Gini:-0.381508\n",
      "\n",
      "Will train until val error hasn't decreased in 200 rounds.\n",
      "Stopping. Best iteration:\n",
      "[639]\ttrain-Gini:-0.648066\tval-Gini:-0.387097\n",
      "\n"
     ]
    },
    {
     "name": "stdout",
     "output_type": "stream",
     "text": [
      "\n",
      "Fold 4 | xgb_dum Gini 0.381424 | xgb_gr Gini 0.387088"
     ]
    },
    {
     "name": "stderr",
     "output_type": "stream",
     "text": [
      "Will train until val error hasn't decreased in 200 rounds.\n",
      "Stopping. Best iteration:\n",
      "[555]\ttrain-Gini:-0.581607\tval-Gini:-0.374217\n",
      "\n",
      "Will train until val error hasn't decreased in 200 rounds.\n",
      "Stopping. Best iteration:\n",
      "[495]\ttrain-Gini:-0.613150\tval-Gini:-0.378541\n",
      "\n"
     ]
    },
    {
     "name": "stdout",
     "output_type": "stream",
     "text": [
      "\n",
      "Fold 5 | xgb_dum Gini 0.374183 | xgb_gr Gini 0.378476"
     ]
    },
    {
     "name": "stderr",
     "output_type": "stream",
     "text": [
      "Will train until val error hasn't decreased in 200 rounds.\n",
      "Stopping. Best iteration:\n",
      "[664]\ttrain-Gini:-0.597836\tval-Gini:-0.373530\n",
      "\n",
      "Will train until val error hasn't decreased in 200 rounds.\n",
      "Stopping. Best iteration:\n",
      "[625]\ttrain-Gini:-0.640274\tval-Gini:-0.374968\n",
      "\n"
     ]
    },
    {
     "name": "stdout",
     "output_type": "stream",
     "text": [
      "\n",
      "Fold 6 | xgb_dum Gini 0.373484 | xgb_gr Gini 0.374873"
     ]
    },
    {
     "name": "stderr",
     "output_type": "stream",
     "text": [
      "Will train until val error hasn't decreased in 200 rounds.\n",
      "Stopping. Best iteration:\n",
      "[649]\ttrain-Gini:-0.596450\tval-Gini:-0.378931\n",
      "\n",
      "Will train until val error hasn't decreased in 200 rounds.\n",
      "Stopping. Best iteration:\n",
      "[612]\ttrain-Gini:-0.639278\tval-Gini:-0.380457\n",
      "\n"
     ]
    },
    {
     "name": "stdout",
     "output_type": "stream",
     "text": [
      "\n",
      "Fold 7 | xgb_dum Gini 0.378895 | xgb_gr Gini 0.380413"
     ]
    },
    {
     "name": "stderr",
     "output_type": "stream",
     "text": [
      "Will train until val error hasn't decreased in 200 rounds.\n",
      "Stopping. Best iteration:\n",
      "[569]\ttrain-Gini:-0.579364\tval-Gini:-0.396235\n",
      "\n",
      "Will train until val error hasn't decreased in 200 rounds.\n",
      "Stopping. Best iteration:\n",
      "[560]\ttrain-Gini:-0.624949\tval-Gini:-0.397234\n",
      "\n"
     ]
    },
    {
     "name": "stdout",
     "output_type": "stream",
     "text": [
      "\n",
      "Fold 8 | xgb_dum Gini 0.396157 | xgb_gr Gini 0.397173"
     ]
    },
    {
     "name": "stderr",
     "output_type": "stream",
     "text": [
      "Will train until val error hasn't decreased in 200 rounds.\n",
      "Stopping. Best iteration:\n",
      "[613]\ttrain-Gini:-0.590951\tval-Gini:-0.378158\n",
      "\n",
      "Will train until val error hasn't decreased in 200 rounds.\n",
      "Stopping. Best iteration:\n",
      "[489]\ttrain-Gini:-0.615664\tval-Gini:-0.376962\n",
      "\n"
     ]
    },
    {
     "name": "stdout",
     "output_type": "stream",
     "text": [
      "\n",
      "Fold 9 | xgb_dum Gini 0.378085 | xgb_gr Gini 0.376907"
     ]
    },
    {
     "name": "stderr",
     "output_type": "stream",
     "text": [
      "Will train until val error hasn't decreased in 200 rounds.\n",
      "Stopping. Best iteration:\n",
      "[755]\ttrain-Gini:-0.614914\tval-Gini:-0.395411\n",
      "\n",
      "Will train until val error hasn't decreased in 200 rounds.\n",
      "Stopping. Best iteration:\n",
      "[596]\ttrain-Gini:-0.638028\tval-Gini:-0.394493\n",
      "\n"
     ]
    },
    {
     "name": "stdout",
     "output_type": "stream",
     "text": [
      "\n",
      "Fold 10 | xgb_dum Gini 0.395361 | xgb_gr Gini 0.394421\n"
     ]
    }
   ],
   "source": [
    "preds_xgb_dum = []\n",
    "preds_xgb_gr = []\n",
    "preds_rf_dum = []\n",
    "preds_rf_gr = []\n",
    "true_label = []\n",
    "tr_ind = []\n",
    "i = 1\n",
    "\n",
    "for j in range(2):\n",
    "#    folds = cv.StratifiedKFold(labels, n_folds = 5, shuffle=True)\n",
    "    folds = cv.KFold(len(labels), n_folds = 5, shuffle=True)\n",
    "    for train_ind, val_ind in folds:\n",
    "        # Prepare group and dummy train sets\n",
    "        X_train_dum = train_dum[train_ind,:]\n",
    "        X_train_gr  = train_gr[train_ind,:]\n",
    "        y_train = labels[train_ind]\n",
    "        # Prepare group and dummy val sets\n",
    "        X_val_dum = train_dum[val_ind,:]\n",
    "        X_val_gr  = train_gr[val_ind,:]\n",
    "        y_val = labels[val_ind]\n",
    "        true_label.append(y_val)\n",
    "        tr_ind.append(train_ind)\n",
    "        # Prepare group and dummy train sets for XGB\n",
    "        xgtrain_dum = xgb.DMatrix(X_train_dum, label=y_train)\n",
    "        xgtrain_gr = xgb.DMatrix(X_train_gr, label=y_train)\n",
    "        # Prepare group and dummy validation sets\n",
    "        xgval_dum = xgb.DMatrix(X_val_dum, label=y_val)\n",
    "        xgval_gr = xgb.DMatrix(X_val_gr, label=y_val)\n",
    "        # Prepare group and dummy watchlists\n",
    "        watchlist_dum = [(xgtrain_dum, 'train'),(xgval_dum, 'val')]\n",
    "        watchlist_gr =  [(xgtrain_gr,  'train'),( xgval_gr, 'val')]\n",
    "        # Train models\n",
    "        model_xgb_dum = xgb.train(params, xgtrain_dum, num_rounds, watchlist_dum,\n",
    "                          feval= Gini, early_stopping_rounds=200,verbose_eval=False)\n",
    "        model_xgb_gr  = xgb.train(params,  xgtrain_gr, num_rounds, watchlist_gr,\n",
    "                          feval= Gini, early_stopping_rounds=200,verbose_eval=False)\n",
    "#        model_rf_dum.fit(X_train_dum, y_train)\n",
    "#        model_rf_gr.fit(X_train_gr, y_train)\n",
    "        # Predictions\n",
    "        xgb_preds_dum = model_xgb_dum.predict(xgval_dum, ntree_limit = model_xgb_dum.best_iteration)\n",
    "        xgb_preds_gr = model_xgb_gr.predict(xgval_gr, ntree_limit = model_xgb_gr.best_iteration)\n",
    "#        rf_preds_dum = model_rf_dum.predict(X_val_dum)\n",
    "#        rf_preds_gr = model_rf_gr.predict(X_val_gr)\n",
    "        # Store predictions\n",
    "        preds_xgb_dum.append(xgb_preds_dum)\n",
    "        preds_xgb_gr.append(xgb_preds_gr)\n",
    "#        preds_rf_dum.append(rf_preds_dum)\n",
    "#        preds_rf_gr.append(rf_preds_gr)\n",
    "#        print('Fold {} | xgb_dum Gini {:.6f} | xgb_gr Gini {:.6f} | rf_dum Gini {:.6f}| rf_gr Gini {:.6f}'.\\\n",
    "#              format(i, Gini_predict(y_val, xgb_preds_dum), Gini_predict(y_val, xgb_preds_gr),\n",
    "#                    Gini_predict(y_val, rf_preds_dum), Gini_predict(y_val, rf_preds_gr)))\n",
    "        print('Fold {} | xgb_dum Gini {:.6f} | xgb_gr Gini {:.6f}'.\\\n",
    "              format(i, Gini_predict(y_val, xgb_preds_dum), Gini_predict(y_val, xgb_preds_gr)))\n",
    "        i+=1"
   ]
  },
  {
   "cell_type": "code",
   "execution_count": 17,
   "metadata": {
    "collapsed": false
   },
   "outputs": [
    {
     "name": "stdout",
     "output_type": "stream",
     "text": [
      "Weight is: 0.0\n",
      "Weight is: 0.1\n",
      "Weight is: 0.2\n",
      "Weight is: 0.30000000000000004\n",
      "Weight is: 0.4\n",
      "Weight is: 0.5\n",
      "Weight is: 0.6000000000000001\n",
      "Weight is: 0.7000000000000001\n",
      "Weight is: 0.8\n",
      "Weight is: 0.9\n",
      "Weight is: 1.0\n"
     ]
    },
    {
     "data": {
      "text/plain": [
       "0.38742693389735827"
      ]
     },
     "execution_count": 17,
     "metadata": {},
     "output_type": "execute_result"
    }
   ],
   "source": [
    "gini = 0\n",
    "weights_xgb = {}\n",
    "final = list(zip(true_label, preds_xgb_dum, preds_xgb_gr))\n",
    "for w in np.linspace(0,1,21):\n",
    "    for p1 in np.linspace(0,1,51):\n",
    "        for p2 in np.linspace(0,1,51):\n",
    "            gini_fold = []\n",
    "            for item in final:\n",
    "                pred = w * (item[1]**p1) + (1-w) *(item[2]**p2)\n",
    "                gini_fold.append(Gini_predict(item[0], pred))\n",
    "            mean_gini = np.mean(gini_fold)\n",
    "            if  mean_gini > gini:\n",
    "                gini = mean_gini\n",
    "                weights_xgb['w'] = w\n",
    "                weights_xgb['p1']= p1\n",
    "                weights_xgb['p2']= p2\n",
    "                weights_xgb['gini'] = gini\n",
    "    print('Weight is: {}'.format(w))\n",
    "                    \n",
    "weights_xgb['gini']"
   ]
  },
  {
   "cell_type": "code",
   "execution_count": 18,
   "metadata": {
    "collapsed": false
   },
   "outputs": [
    {
     "data": {
      "text/plain": [
       "{'gini': 0.38742693389735827,\n",
       " 'p1': 0.050000000000000003,\n",
       " 'p2': 0.20000000000000001,\n",
       " 'w': 0.80000000000000004}"
      ]
     },
     "execution_count": 18,
     "metadata": {},
     "output_type": "execute_result"
    }
   ],
   "source": [
    "weights_xgb"
   ]
  },
  {
   "cell_type": "code",
   "execution_count": 31,
   "metadata": {
    "collapsed": false
   },
   "outputs": [
    {
     "ename": "ValueError",
     "evalue": "operands could not be broadcast together with shapes (10200,) (10199,) ",
     "output_type": "error",
     "traceback": [
      "\u001b[1;31m---------------------------------------------------------------------------\u001b[0m",
      "\u001b[1;31mValueError\u001b[0m                                Traceback (most recent call last)",
      "\u001b[1;32m<ipython-input-31-522f945b2743>\u001b[0m in \u001b[0;36m<module>\u001b[1;34m()\u001b[0m\n\u001b[1;32m----> 1\u001b[1;33m \u001b[0mnp\u001b[0m\u001b[1;33m.\u001b[0m\u001b[0mmean\u001b[0m\u001b[1;33m(\u001b[0m\u001b[0mpreds_xgb_dum\u001b[0m\u001b[1;33m)\u001b[0m\u001b[1;33m\u001b[0m\u001b[0m\n\u001b[0m",
      "\u001b[1;32m/home/sergey/anaconda3/lib/python3.4/site-packages/numpy/core/fromnumeric.py\u001b[0m in \u001b[0;36mmean\u001b[1;34m(a, axis, dtype, out, keepdims)\u001b[0m\n\u001b[0;32m   2733\u001b[0m \u001b[1;33m\u001b[0m\u001b[0m\n\u001b[0;32m   2734\u001b[0m     return _methods._mean(a, axis=axis, dtype=dtype,\n\u001b[1;32m-> 2735\u001b[1;33m                             out=out, keepdims=keepdims)\n\u001b[0m\u001b[0;32m   2736\u001b[0m \u001b[1;33m\u001b[0m\u001b[0m\n\u001b[0;32m   2737\u001b[0m \u001b[1;32mdef\u001b[0m \u001b[0mstd\u001b[0m\u001b[1;33m(\u001b[0m\u001b[0ma\u001b[0m\u001b[1;33m,\u001b[0m \u001b[0maxis\u001b[0m\u001b[1;33m=\u001b[0m\u001b[1;32mNone\u001b[0m\u001b[1;33m,\u001b[0m \u001b[0mdtype\u001b[0m\u001b[1;33m=\u001b[0m\u001b[1;32mNone\u001b[0m\u001b[1;33m,\u001b[0m \u001b[0mout\u001b[0m\u001b[1;33m=\u001b[0m\u001b[1;32mNone\u001b[0m\u001b[1;33m,\u001b[0m \u001b[0mddof\u001b[0m\u001b[1;33m=\u001b[0m\u001b[1;36m0\u001b[0m\u001b[1;33m,\u001b[0m \u001b[0mkeepdims\u001b[0m\u001b[1;33m=\u001b[0m\u001b[1;32mFalse\u001b[0m\u001b[1;33m)\u001b[0m\u001b[1;33m:\u001b[0m\u001b[1;33m\u001b[0m\u001b[0m\n",
      "\u001b[1;32m/home/sergey/anaconda3/lib/python3.4/site-packages/numpy/core/_methods.py\u001b[0m in \u001b[0;36m_mean\u001b[1;34m(a, axis, dtype, out, keepdims)\u001b[0m\n\u001b[0;32m     64\u001b[0m         \u001b[0mdtype\u001b[0m \u001b[1;33m=\u001b[0m \u001b[0mmu\u001b[0m\u001b[1;33m.\u001b[0m\u001b[0mdtype\u001b[0m\u001b[1;33m(\u001b[0m\u001b[1;34m'f8'\u001b[0m\u001b[1;33m)\u001b[0m\u001b[1;33m\u001b[0m\u001b[0m\n\u001b[0;32m     65\u001b[0m \u001b[1;33m\u001b[0m\u001b[0m\n\u001b[1;32m---> 66\u001b[1;33m     \u001b[0mret\u001b[0m \u001b[1;33m=\u001b[0m \u001b[0mumr_sum\u001b[0m\u001b[1;33m(\u001b[0m\u001b[0marr\u001b[0m\u001b[1;33m,\u001b[0m \u001b[0maxis\u001b[0m\u001b[1;33m,\u001b[0m \u001b[0mdtype\u001b[0m\u001b[1;33m,\u001b[0m \u001b[0mout\u001b[0m\u001b[1;33m,\u001b[0m \u001b[0mkeepdims\u001b[0m\u001b[1;33m)\u001b[0m\u001b[1;33m\u001b[0m\u001b[0m\n\u001b[0m\u001b[0;32m     67\u001b[0m     \u001b[1;32mif\u001b[0m \u001b[0misinstance\u001b[0m\u001b[1;33m(\u001b[0m\u001b[0mret\u001b[0m\u001b[1;33m,\u001b[0m \u001b[0mmu\u001b[0m\u001b[1;33m.\u001b[0m\u001b[0mndarray\u001b[0m\u001b[1;33m)\u001b[0m\u001b[1;33m:\u001b[0m\u001b[1;33m\u001b[0m\u001b[0m\n\u001b[0;32m     68\u001b[0m         ret = um.true_divide(\n",
      "\u001b[1;31mValueError\u001b[0m: operands could not be broadcast together with shapes (10200,) (10199,) "
     ]
    }
   ],
   "source": [
    "np.mean(preds_xgb_dum)"
   ]
  }
 ],
 "metadata": {
  "kernelspec": {
   "display_name": "Python 3",
   "language": "python",
   "name": "python3"
  },
  "language_info": {
   "codemirror_mode": {
    "name": "ipython",
    "version": 3
   },
   "file_extension": ".py",
   "mimetype": "text/x-python",
   "name": "python",
   "nbconvert_exporter": "python",
   "pygments_lexer": "ipython3",
   "version": "3.4.3"
  }
 },
 "nbformat": 4,
 "nbformat_minor": 0
}
