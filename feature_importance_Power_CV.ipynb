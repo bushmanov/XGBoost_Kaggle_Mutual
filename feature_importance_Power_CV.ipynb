{
 "cells": [
  {
   "cell_type": "code",
   "execution_count": 12,
   "metadata": {
    "collapsed": true
   },
   "outputs": [],
   "source": [
    "import pandas as pd\n",
    "import numpy as np \n",
    "import xgboost as xgb\n",
    "from collections import Counter\n",
    "import re\n",
    "import sklearn.cross_validation as cv"
   ]
  },
  {
   "cell_type": "code",
   "execution_count": 13,
   "metadata": {
    "collapsed": true
   },
   "outputs": [],
   "source": [
    "def Gini(y_pred, dtrain):\n",
    "    y_pred = y_pred**power\n",
    "    y_true = dtrain.get_label()\n",
    "    # check and get number of samples\n",
    "    assert y_true.shape == y_pred.shape\n",
    "    n_samples = y_true.shape[0]\n",
    "    \n",
    "    # sort rows on prediction column \n",
    "    # (from largest to smallest)\n",
    "    arr = np.array([y_true, y_pred]).transpose()\n",
    "    true_order = arr[arr[:,0].argsort()][::-1,0]\n",
    "    pred_order = arr[arr[:,1].argsort()][::-1,0]\n",
    "    \n",
    "    # get Lorenz curves\n",
    "    L_true = np.cumsum(true_order) / np.sum(true_order)\n",
    "    L_pred = np.cumsum(pred_order) / np.sum(pred_order)\n",
    "    L_ones = np.linspace(0, 1, n_samples)\n",
    "    \n",
    "    # get Gini coefficients (area between curves)\n",
    "    G_true = np.sum(L_ones - L_true)\n",
    "    G_pred = np.sum(L_ones - L_pred)\n",
    "    \n",
    "    # normalize to true Gini coefficient\n",
    "    return 'Gini', -G_pred/G_true"
   ]
  },
  {
   "cell_type": "markdown",
   "metadata": {},
   "source": [
    "## Train"
   ]
  },
  {
   "cell_type": "code",
   "execution_count": 15,
   "metadata": {
    "collapsed": false
   },
   "outputs": [
    {
     "name": "stderr",
     "output_type": "stream",
     "text": [
      "Will train until val error hasn't decreased in 200 rounds.\n",
      "Stopping. Best iteration:\n",
      "[950]\ttrain-Gini:-0.630695\tval-Gini:-0.391872\n",
      "\n",
      "Will train until val error hasn't decreased in 200 rounds.\n",
      "Stopping. Best iteration:\n",
      "[968]\ttrain-Gini:-0.637550\tval-Gini:-0.376222\n",
      "\n",
      "Will train until val error hasn't decreased in 200 rounds.\n",
      "Stopping. Best iteration:\n",
      "[798]\ttrain-Gini:-0.607020\tval-Gini:-0.386726\n",
      "\n",
      "Will train until val error hasn't decreased in 200 rounds.\n",
      "Stopping. Best iteration:\n",
      "[1005]\ttrain-Gini:-0.632584\tval-Gini:-0.388299\n",
      "\n",
      "Will train until val error hasn't decreased in 200 rounds.\n",
      "Stopping. Best iteration:\n",
      "[1475]\ttrain-Gini:-0.685013\tval-Gini:-0.384649\n",
      "\n",
      "Will train until val error hasn't decreased in 200 rounds.\n",
      "Stopping. Best iteration:\n",
      "[1193]\ttrain-Gini:-0.655291\tval-Gini:-0.396362\n",
      "\n",
      "Will train until val error hasn't decreased in 200 rounds.\n",
      "Stopping. Best iteration:\n",
      "[1435]\ttrain-Gini:-0.677241\tval-Gini:-0.376105\n",
      "\n",
      "Will train until val error hasn't decreased in 200 rounds.\n",
      "Stopping. Best iteration:\n",
      "[1022]\ttrain-Gini:-0.644311\tval-Gini:-0.397711\n",
      "\n",
      "Will train until val error hasn't decreased in 200 rounds.\n",
      "Stopping. Best iteration:\n",
      "[808]\ttrain-Gini:-0.618906\tval-Gini:-0.374085\n",
      "\n",
      "Will train until val error hasn't decreased in 200 rounds.\n",
      "Stopping. Best iteration:\n",
      "[1111]\ttrain-Gini:-0.644143\tval-Gini:-0.377247\n",
      "\n",
      "Will train until val error hasn't decreased in 200 rounds.\n",
      "Stopping. Best iteration:\n",
      "[1139]\ttrain-Gini:-0.656674\tval-Gini:-0.378644\n",
      "\n",
      "Will train until val error hasn't decreased in 200 rounds.\n",
      "Stopping. Best iteration:\n",
      "[867]\ttrain-Gini:-0.623448\tval-Gini:-0.383423\n",
      "\n",
      "Will train until val error hasn't decreased in 200 rounds.\n",
      "Stopping. Best iteration:\n",
      "[1175]\ttrain-Gini:-0.650552\tval-Gini:-0.391569\n",
      "\n",
      "Will train until val error hasn't decreased in 200 rounds.\n",
      "Stopping. Best iteration:\n",
      "[853]\ttrain-Gini:-0.618997\tval-Gini:-0.392198\n",
      "\n",
      "Will train until val error hasn't decreased in 200 rounds.\n",
      "Stopping. Best iteration:\n",
      "[1212]\ttrain-Gini:-0.654890\tval-Gini:-0.374195\n",
      "\n",
      "Will train until val error hasn't decreased in 200 rounds.\n",
      "Stopping. Best iteration:\n",
      "[1273]\ttrain-Gini:-0.667139\tval-Gini:-0.393508\n",
      "\n",
      "Will train until val error hasn't decreased in 200 rounds.\n",
      "Stopping. Best iteration:\n",
      "[1098]\ttrain-Gini:-0.643679\tval-Gini:-0.378888\n",
      "\n",
      "Will train until val error hasn't decreased in 200 rounds.\n",
      "Stopping. Best iteration:\n",
      "[1505]\ttrain-Gini:-0.682348\tval-Gini:-0.389286\n",
      "\n",
      "Will train until val error hasn't decreased in 200 rounds.\n",
      "Stopping. Best iteration:\n",
      "[932]\ttrain-Gini:-0.630610\tval-Gini:-0.381398\n",
      "\n",
      "Will train until val error hasn't decreased in 200 rounds.\n",
      "Stopping. Best iteration:\n",
      "[1036]\ttrain-Gini:-0.641577\tval-Gini:-0.386105\n",
      "\n"
     ]
    },
    {
     "name": "stdout",
     "output_type": "stream",
     "text": [
      "power: 0.01 | Mean Gini: -0.384928 | Std Gini: 0.008290 \n",
      "power: 0.020000000000000004 | Mean Gini: -0.384925 | Std Gini: 0.007362 "
     ]
    },
    {
     "name": "stderr",
     "output_type": "stream",
     "text": [
      "Will train until val error hasn't decreased in 200 rounds.\n",
      "Stopping. Best iteration:\n",
      "[795]\ttrain-Gini:-0.607674\tval-Gini:-0.395667\n",
      "\n",
      "Will train until val error hasn't decreased in 200 rounds.\n",
      "Stopping. Best iteration:\n",
      "[1376]\ttrain-Gini:-0.672974\tval-Gini:-0.381493\n",
      "\n",
      "Will train until val error hasn't decreased in 200 rounds.\n",
      "Stopping. Best iteration:\n",
      "[1076]\ttrain-Gini:-0.649309\tval-Gini:-0.396219\n",
      "\n",
      "Will train until val error hasn't decreased in 200 rounds.\n",
      "Stopping. Best iteration:\n",
      "[1149]\ttrain-Gini:-0.653598\tval-Gini:-0.387812\n",
      "\n",
      "Will train until val error hasn't decreased in 200 rounds.\n",
      "Stopping. Best iteration:\n",
      "[1076]\ttrain-Gini:-0.641494\tval-Gini:-0.367336\n",
      "\n",
      "Will train until val error hasn't decreased in 200 rounds.\n",
      "Stopping. Best iteration:\n",
      "[1020]\ttrain-Gini:-0.638288\tval-Gini:-0.387319\n",
      "\n",
      "Will train until val error hasn't decreased in 200 rounds.\n",
      "Stopping. Best iteration:\n",
      "[1158]\ttrain-Gini:-0.652146\tval-Gini:-0.388984\n",
      "\n",
      "Will train until val error hasn't decreased in 200 rounds.\n",
      "Stopping. Best iteration:\n",
      "[1031]\ttrain-Gini:-0.641994\tval-Gini:-0.383025\n",
      "\n",
      "Will train until val error hasn't decreased in 200 rounds.\n",
      "Stopping. Best iteration:\n",
      "[1171]\ttrain-Gini:-0.652866\tval-Gini:-0.383305\n",
      "\n",
      "Will train until val error hasn't decreased in 200 rounds.\n",
      "Stopping. Best iteration:\n",
      "[978]\ttrain-Gini:-0.633807\tval-Gini:-0.384737\n",
      "\n"
     ]
    },
    {
     "name": "stdout",
     "output_type": "stream",
     "text": [
      "\n",
      "power: 0.030000000000000006 | Mean Gini: -0.385146 | Std Gini: 0.007491 "
     ]
    },
    {
     "name": "stderr",
     "output_type": "stream",
     "text": [
      "Will train until val error hasn't decreased in 200 rounds.\n",
      "Stopping. Best iteration:\n",
      "[1086]\ttrain-Gini:-0.643335\tval-Gini:-0.394832\n",
      "\n",
      "Will train until val error hasn't decreased in 200 rounds.\n",
      "Stopping. Best iteration:\n",
      "[834]\ttrain-Gini:-0.618937\tval-Gini:-0.406384\n",
      "\n",
      "Will train until val error hasn't decreased in 200 rounds.\n",
      "Stopping. Best iteration:\n",
      "[1044]\ttrain-Gini:-0.642444\tval-Gini:-0.370408\n",
      "\n",
      "Will train until val error hasn't decreased in 200 rounds.\n",
      "Stopping. Best iteration:\n",
      "[981]\ttrain-Gini:-0.633825\tval-Gini:-0.377045\n",
      "\n",
      "Will train until val error hasn't decreased in 200 rounds.\n",
      "Stopping. Best iteration:\n",
      "[971]\ttrain-Gini:-0.634371\tval-Gini:-0.371610\n",
      "\n",
      "Will train until val error hasn't decreased in 200 rounds.\n",
      "Stopping. Best iteration:\n",
      "[1012]\ttrain-Gini:-0.639515\tval-Gini:-0.374025\n",
      "\n",
      "Will train until val error hasn't decreased in 200 rounds.\n",
      "Stopping. Best iteration:\n",
      "[796]\ttrain-Gini:-0.611632\tval-Gini:-0.379681\n",
      "\n",
      "Will train until val error hasn't decreased in 200 rounds.\n",
      "Stopping. Best iteration:\n",
      "[1075]\ttrain-Gini:-0.641427\tval-Gini:-0.398761\n",
      "\n",
      "Will train until val error hasn't decreased in 200 rounds.\n",
      "Stopping. Best iteration:\n",
      "[1054]\ttrain-Gini:-0.641643\tval-Gini:-0.390275\n",
      "\n",
      "Will train until val error hasn't decreased in 200 rounds.\n",
      "Stopping. Best iteration:\n",
      "[1194]\ttrain-Gini:-0.660072\tval-Gini:-0.378564\n",
      "\n"
     ]
    },
    {
     "name": "stdout",
     "output_type": "stream",
     "text": [
      "\n",
      "power: 0.04000000000000001 | Mean Gini: -0.384899 | Std Gini: 0.008804 "
     ]
    },
    {
     "name": "stderr",
     "output_type": "stream",
     "text": [
      "Will train until val error hasn't decreased in 200 rounds.\n",
      "Stopping. Best iteration:\n",
      "[1116]\ttrain-Gini:-0.646534\tval-Gini:-0.387639\n",
      "\n",
      "Will train until val error hasn't decreased in 200 rounds.\n",
      "Stopping. Best iteration:\n",
      "[928]\ttrain-Gini:-0.632578\tval-Gini:-0.386975\n",
      "\n",
      "Will train until val error hasn't decreased in 200 rounds.\n",
      "Stopping. Best iteration:\n",
      "[1224]\ttrain-Gini:-0.660216\tval-Gini:-0.385389\n",
      "\n",
      "Will train until val error hasn't decreased in 200 rounds.\n",
      "Stopping. Best iteration:\n",
      "[1004]\ttrain-Gini:-0.634015\tval-Gini:-0.384392\n",
      "\n",
      "Will train until val error hasn't decreased in 200 rounds.\n",
      "Stopping. Best iteration:\n",
      "[1129]\ttrain-Gini:-0.649275\tval-Gini:-0.373915\n",
      "\n",
      "Will train until val error hasn't decreased in 200 rounds.\n",
      "Stopping. Best iteration:\n",
      "[1154]\ttrain-Gini:-0.653121\tval-Gini:-0.375964\n",
      "\n",
      "Will train until val error hasn't decreased in 200 rounds.\n",
      "Stopping. Best iteration:\n",
      "[1194]\ttrain-Gini:-0.656363\tval-Gini:-0.399969\n",
      "\n",
      "Will train until val error hasn't decreased in 200 rounds.\n",
      "Stopping. Best iteration:\n",
      "[1056]\ttrain-Gini:-0.642853\tval-Gini:-0.384065\n",
      "\n",
      "Will train until val error hasn't decreased in 200 rounds.\n",
      "Stopping. Best iteration:\n",
      "[1042]\ttrain-Gini:-0.639315\tval-Gini:-0.393759\n",
      "\n",
      "Will train until val error hasn't decreased in 200 rounds.\n",
      "Stopping. Best iteration:\n",
      "[1277]\ttrain-Gini:-0.664904\tval-Gini:-0.371052\n",
      "\n"
     ]
    },
    {
     "name": "stdout",
     "output_type": "stream",
     "text": [
      "\n",
      "power: 0.05000000000000001 | Mean Gini: -0.384782 | Std Gini: 0.008730 "
     ]
    },
    {
     "name": "stderr",
     "output_type": "stream",
     "text": [
      "Will train until val error hasn't decreased in 200 rounds.\n",
      "Stopping. Best iteration:\n",
      "[1009]\ttrain-Gini:-0.638037\tval-Gini:-0.389312\n",
      "\n",
      "Will train until val error hasn't decreased in 200 rounds.\n",
      "Stopping. Best iteration:\n",
      "[1030]\ttrain-Gini:-0.638216\tval-Gini:-0.391969\n",
      "\n",
      "Will train until val error hasn't decreased in 200 rounds.\n",
      "Stopping. Best iteration:\n",
      "[1070]\ttrain-Gini:-0.648776\tval-Gini:-0.382673\n",
      "\n",
      "Will train until val error hasn't decreased in 200 rounds.\n",
      "Stopping. Best iteration:\n",
      "[1002]\ttrain-Gini:-0.636288\tval-Gini:-0.382058\n",
      "\n",
      "Will train until val error hasn't decreased in 200 rounds.\n",
      "Stopping. Best iteration:\n",
      "[1041]\ttrain-Gini:-0.640752\tval-Gini:-0.376162\n",
      "\n",
      "Will train until val error hasn't decreased in 200 rounds.\n",
      "Stopping. Best iteration:\n",
      "[824]\ttrain-Gini:-0.616081\tval-Gini:-0.381456\n",
      "\n",
      "Will train until val error hasn't decreased in 200 rounds.\n",
      "Stopping. Best iteration:\n",
      "[1259]\ttrain-Gini:-0.659730\tval-Gini:-0.395192\n",
      "\n",
      "Will train until val error hasn't decreased in 200 rounds.\n",
      "Stopping. Best iteration:\n",
      "[1015]\ttrain-Gini:-0.636652\tval-Gini:-0.387591\n",
      "\n",
      "Will train until val error hasn't decreased in 200 rounds.\n",
      "Stopping. Best iteration:\n",
      "[1223]\ttrain-Gini:-0.664313\tval-Gini:-0.364403\n",
      "\n",
      "Will train until val error hasn't decreased in 200 rounds.\n",
      "Stopping. Best iteration:\n",
      "[932]\ttrain-Gini:-0.625983\tval-Gini:-0.389007\n",
      "\n"
     ]
    },
    {
     "name": "stdout",
     "output_type": "stream",
     "text": [
      "\n",
      "power: 0.06000000000000001 | Mean Gini: -0.384649 | Std Gini: 0.008688 "
     ]
    },
    {
     "name": "stderr",
     "output_type": "stream",
     "text": [
      "Will train until val error hasn't decreased in 200 rounds.\n",
      "Stopping. Best iteration:\n",
      "[1029]\ttrain-Gini:-0.641185\tval-Gini:-0.391760\n",
      "\n",
      "Will train until val error hasn't decreased in 200 rounds.\n",
      "Stopping. Best iteration:\n",
      "[1016]\ttrain-Gini:-0.638605\tval-Gini:-0.392990\n",
      "\n",
      "Will train until val error hasn't decreased in 200 rounds.\n",
      "Stopping. Best iteration:\n",
      "[972]\ttrain-Gini:-0.634529\tval-Gini:-0.390355\n",
      "\n",
      "Will train until val error hasn't decreased in 200 rounds.\n",
      "Stopping. Best iteration:\n",
      "[1289]\ttrain-Gini:-0.662712\tval-Gini:-0.377194\n",
      "\n",
      "Will train until val error hasn't decreased in 200 rounds.\n",
      "Stopping. Best iteration:\n",
      "[1092]\ttrain-Gini:-0.648718\tval-Gini:-0.371997\n",
      "\n",
      "Will train until val error hasn't decreased in 200 rounds.\n",
      "Stopping. Best iteration:\n",
      "[1221]\ttrain-Gini:-0.661512\tval-Gini:-0.390883\n",
      "\n",
      "Will train until val error hasn't decreased in 200 rounds.\n",
      "Stopping. Best iteration:\n",
      "[1035]\ttrain-Gini:-0.640896\tval-Gini:-0.370275\n",
      "\n",
      "Will train until val error hasn't decreased in 200 rounds.\n",
      "Stopping. Best iteration:\n",
      "[1281]\ttrain-Gini:-0.663663\tval-Gini:-0.382388\n",
      "\n",
      "Will train until val error hasn't decreased in 200 rounds.\n",
      "Stopping. Best iteration:\n",
      "[927]\ttrain-Gini:-0.631658\tval-Gini:-0.374109\n",
      "\n",
      "Will train until val error hasn't decreased in 200 rounds.\n",
      "Stopping. Best iteration:\n",
      "[843]\ttrain-Gini:-0.613156\tval-Gini:-0.396559\n",
      "\n"
     ]
    },
    {
     "name": "stdout",
     "output_type": "stream",
     "text": [
      "\n",
      "power: 0.07 | Mean Gini: -0.384535 | Std Gini: 0.008783 "
     ]
    },
    {
     "name": "stderr",
     "output_type": "stream",
     "text": [
      "Will train until val error hasn't decreased in 200 rounds.\n",
      "Stopping. Best iteration:\n",
      "[838]\ttrain-Gini:-0.619237\tval-Gini:-0.382713\n",
      "\n",
      "Will train until val error hasn't decreased in 200 rounds.\n",
      "Stopping. Best iteration:\n",
      "[906]\ttrain-Gini:-0.626280\tval-Gini:-0.388499\n",
      "\n",
      "Will train until val error hasn't decreased in 200 rounds.\n",
      "Stopping. Best iteration:\n",
      "[1126]\ttrain-Gini:-0.648282\tval-Gini:-0.391446\n",
      "\n",
      "Will train until val error hasn't decreased in 200 rounds.\n",
      "Stopping. Best iteration:\n",
      "[1098]\ttrain-Gini:-0.644902\tval-Gini:-0.377008\n",
      "\n",
      "Will train until val error hasn't decreased in 200 rounds.\n",
      "Stopping. Best iteration:\n",
      "[942]\ttrain-Gini:-0.629051\tval-Gini:-0.378802\n",
      "\n",
      "Will train until val error hasn't decreased in 200 rounds.\n",
      "Stopping. Best iteration:\n",
      "[1336]\ttrain-Gini:-0.670779\tval-Gini:-0.385372\n",
      "\n",
      "Will train until val error hasn't decreased in 200 rounds.\n",
      "Stopping. Best iteration:\n",
      "[1016]\ttrain-Gini:-0.638954\tval-Gini:-0.394461\n",
      "\n",
      "Will train until val error hasn't decreased in 200 rounds.\n",
      "Stopping. Best iteration:\n",
      "[1194]\ttrain-Gini:-0.655406\tval-Gini:-0.382170\n",
      "\n",
      "Will train until val error hasn't decreased in 200 rounds.\n",
      "Stopping. Best iteration:\n",
      "[1169]\ttrain-Gini:-0.654657\tval-Gini:-0.381340\n",
      "\n",
      "Will train until val error hasn't decreased in 200 rounds.\n",
      "Stopping. Best iteration:\n",
      "[1293]\ttrain-Gini:-0.663895\tval-Gini:-0.377739\n",
      "\n"
     ]
    },
    {
     "name": "stdout",
     "output_type": "stream",
     "text": [
      "\n",
      "power: 0.08 | Mean Gini: -0.384462 | Std Gini: 0.008453 "
     ]
    },
    {
     "name": "stderr",
     "output_type": "stream",
     "text": [
      "Will train until val error hasn't decreased in 200 rounds.\n",
      "Stopping. Best iteration:\n",
      "[925]\ttrain-Gini:-0.622436\tval-Gini:-0.393613\n",
      "\n",
      "Will train until val error hasn't decreased in 200 rounds.\n",
      "Stopping. Best iteration:\n",
      "[1003]\ttrain-Gini:-0.635522\tval-Gini:-0.384255\n",
      "\n",
      "Will train until val error hasn't decreased in 200 rounds.\n",
      "Stopping. Best iteration:\n",
      "[1235]\ttrain-Gini:-0.661302\tval-Gini:-0.391751\n",
      "\n",
      "Will train until val error hasn't decreased in 200 rounds.\n",
      "Stopping. Best iteration:\n",
      "[1279]\ttrain-Gini:-0.665146\tval-Gini:-0.393032\n",
      "\n",
      "Will train until val error hasn't decreased in 200 rounds.\n",
      "Stopping. Best iteration:\n",
      "[704]\ttrain-Gini:-0.606141\tval-Gini:-0.359338\n",
      "\n",
      "Will train until val error hasn't decreased in 200 rounds.\n",
      "Stopping. Best iteration:\n",
      "[1010]\ttrain-Gini:-0.635855\tval-Gini:-0.382951\n",
      "\n",
      "Will train until val error hasn't decreased in 200 rounds.\n",
      "Stopping. Best iteration:\n",
      "[820]\ttrain-Gini:-0.614578\tval-Gini:-0.390701\n",
      "\n",
      "Will train until val error hasn't decreased in 200 rounds.\n",
      "Stopping. Best iteration:\n",
      "[879]\ttrain-Gini:-0.620883\tval-Gini:-0.383440\n",
      "\n",
      "Will train until val error hasn't decreased in 200 rounds.\n",
      "Stopping. Best iteration:\n",
      "[1175]\ttrain-Gini:-0.656824\tval-Gini:-0.370535\n",
      "\n",
      "Will train until val error hasn't decreased in 200 rounds.\n",
      "Stopping. Best iteration:\n",
      "[1146]\ttrain-Gini:-0.650229\tval-Gini:-0.391284\n",
      "\n"
     ]
    },
    {
     "name": "stdout",
     "output_type": "stream",
     "text": [
      "\n",
      "power: 0.09000000000000001 | Mean Gini: -0.384421 | Std Gini: 0.008718 "
     ]
    },
    {
     "name": "stderr",
     "output_type": "stream",
     "text": [
      "Will train until val error hasn't decreased in 200 rounds.\n",
      "Stopping. Best iteration:\n",
      "[1173]\ttrain-Gini:-0.653043\tval-Gini:-0.387405\n",
      "\n",
      "Will train until val error hasn't decreased in 200 rounds.\n",
      "Stopping. Best iteration:\n",
      "[847]\ttrain-Gini:-0.616115\tval-Gini:-0.396582\n",
      "\n",
      "Will train until val error hasn't decreased in 200 rounds.\n",
      "Stopping. Best iteration:\n",
      "[1184]\ttrain-Gini:-0.656802\tval-Gini:-0.371064\n",
      "\n",
      "Will train until val error hasn't decreased in 200 rounds.\n",
      "Stopping. Best iteration:\n",
      "[1056]\ttrain-Gini:-0.644974\tval-Gini:-0.385846\n",
      "\n",
      "Will train until val error hasn't decreased in 200 rounds.\n",
      "Stopping. Best iteration:\n",
      "[940]\ttrain-Gini:-0.630210\tval-Gini:-0.386233\n",
      "\n",
      "Will train until val error hasn't decreased in 200 rounds.\n",
      "Stopping. Best iteration:\n",
      "[1312]\ttrain-Gini:-0.668545\tval-Gini:-0.381466\n",
      "\n",
      "Will train until val error hasn't decreased in 200 rounds.\n",
      "Stopping. Best iteration:\n",
      "[1170]\ttrain-Gini:-0.649841\tval-Gini:-0.387338\n",
      "\n",
      "Will train until val error hasn't decreased in 200 rounds.\n",
      "Stopping. Best iteration:\n",
      "[939]\ttrain-Gini:-0.625408\tval-Gini:-0.388124\n",
      "\n",
      "Will train until val error hasn't decreased in 200 rounds.\n",
      "Stopping. Best iteration:\n",
      "[997]\ttrain-Gini:-0.640710\tval-Gini:-0.381224\n",
      "\n",
      "Will train until val error hasn't decreased in 200 rounds.\n",
      "Stopping. Best iteration:\n",
      "[1065]\ttrain-Gini:-0.643792\tval-Gini:-0.386382\n",
      "\n"
     ]
    },
    {
     "name": "stdout",
     "output_type": "stream",
     "text": [
      "\n",
      "power: 0.1 | Mean Gini: -0.384495 | Std Gini: 0.008500 \n"
     ]
    }
   ],
   "source": [
    "import warnings\n",
    "warnings.filterwarnings('ignore')\n",
    "num_rounds = 10000\n",
    "params = {  \"objective\": \"reg:linear\"\n",
    "          , \"eta\": 0.005\n",
    "          , \"min_child_weight\": 10\n",
    "          , \"subsample\": 0.6\n",
    "          , \"colsample_bytree\": 0.7\n",
    "          , \"scale_pos_weight\": 1\n",
    "          , \"silent\": 1\n",
    "          , \"max_depth\": 9}\n",
    "\n",
    "powers=np.linspace(.01,.1,10)\n",
    "\n",
    "tr = pd.read_csv('./train.csv', sep = ',', index_col = 'Id')\n",
    "te =  pd.read_csv('./test.csv', sep = ',',index_col = 'Id')\n",
    "labels = tr['Hazard'].values\n",
    "\n",
    "full =  pd.concat(objs = [tr,te])\n",
    "full_cat = full.select_dtypes(include = ['object'])\n",
    "full_num = full.select_dtypes(exclude = ['object'])\n",
    "full_cat = full_cat.apply(func = lambda x: np.unique(x, return_inverse =1)[1], axis=0)\n",
    "\n",
    "full = pd.concat([full_num,full_cat], axis=1)\n",
    "split = np.isnan(full.Hazard)\n",
    "\n",
    "train = full[~split].drop('Hazard', axis=1).values\n",
    "\n",
    "gini = []\n",
    "for power in powers:\n",
    "    for j in range(2):\n",
    "        folds = cv.StratifiedKFold(labels, n_folds = 5, shuffle=True)\n",
    "        for train_ind, val_ind in folds: \n",
    "            xgtrain = xgb.DMatrix(train[train_ind,:], label=labels[train_ind])\n",
    "            xgval = xgb.DMatrix(train[val_ind,:], label=labels[val_ind])\n",
    "            watchlist = [(xgtrain, 'train'),(xgval, 'val')]\n",
    "            model = xgb.train(params, xgtrain, num_rounds, watchlist,\n",
    "                              feval= Gini, early_stopping_rounds=200,verbose_eval=False)\n",
    "            gini.append(model.best_score)\n",
    "    print('power: {} | Mean Gini: {:.6f} | Std Gini: {:.6f} '.format(\n",
    "        power, np.mean(gini),np.std(gini)))"
   ]
  },
  {
   "cell_type": "code",
   "execution_count": 6,
   "metadata": {
    "collapsed": false,
    "scrolled": true
   },
   "outputs": [
    {
     "name": "stdout",
     "output_type": "stream",
     "text": [
      "CV repeats: 10 | Mean Gini: -0.384185 | Std Gini: 0.004694 \n"
     ]
    }
   ],
   "source": [
    "print('CV repeats: {} | Mean Gini: {:.6f} | Std Gini: {:.6f} '.format(\n",
    "        len(gini), np.mean(gini),np.std(gini))) # power =.5"
   ]
  },
  {
   "cell_type": "code",
   "execution_count": 4,
   "metadata": {
    "collapsed": false,
    "scrolled": true
   },
   "outputs": [
    {
     "name": "stdout",
     "output_type": "stream",
     "text": [
      "CV repeats: 10 | Mean Gini: -0.383559 | Std Gini: 0.008555 \n"
     ]
    }
   ],
   "source": [
    "print('CV repeats: {} | Mean Gini: {:.6f} | Std Gini: {:.6f} '.format(\n",
    "        len(gini), np.mean(gini),np.std(gini))) # power =.9"
   ]
  },
  {
   "cell_type": "code",
   "execution_count": 6,
   "metadata": {
    "collapsed": false,
    "scrolled": true
   },
   "outputs": [
    {
     "name": "stdout",
     "output_type": "stream",
     "text": [
      "CV repeats: 10 | Mean Gini: -0.384105 | Std Gini: 0.010152 \n"
     ]
    }
   ],
   "source": [
    "print('CV repeats: {} | Mean Gini: {:.6f} | Std Gini: {:.6f} '.format(\n",
    "        len(gini), np.mean(gini),np.std(gini)))"
   ]
  }
 ],
 "metadata": {
  "kernelspec": {
   "display_name": "Python 3",
   "language": "python",
   "name": "python3"
  },
  "language_info": {
   "codemirror_mode": {
    "name": "ipython",
    "version": 3
   },
   "file_extension": ".py",
   "mimetype": "text/x-python",
   "name": "python",
   "nbconvert_exporter": "python",
   "pygments_lexer": "ipython3",
   "version": "3.4.3"
  }
 },
 "nbformat": 4,
 "nbformat_minor": 0
}
